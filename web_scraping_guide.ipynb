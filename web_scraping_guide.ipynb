{
 "cells": [
  {
   "cell_type": "markdown",
   "metadata": {
    "colab_type": "text",
    "id": "ptpxaHQc9NeT"
   },
   "source": [
    "# Web Scraping with Beautiful Soup\n",
    "I'm building a notebook for web scraping using Python to develop my skills using the popular `BeautifulSoup` Python library ([Documentation](https://www.crummy.com/software/BeautifulSoup/bs4/doc/)). It will be based on projects that I have wanted to do, so the code will have real world examples for scraping websites and provide me with a good opportunity to clean 'dirty' data and create data sets that are easily manipulated and worked with for further analysis, machine learning techniques or visualisations. \n",
    "\n",
    "---\n",
    "\n",
    "Basic flow:\n",
    "1. You have to scrape the raw html for a given url using `requests`\n",
    "2. You have to trim the information you want from that html via elements, classes and ids using `BeuatifulSoup`\n",
    "    1. Identifying the classes and ids of the elements that you want to extract information from has appeared to be a vital part of the process\n",
    "3. Manipulate that information into a easily usable format using `pandas`\n"
   ]
  },
  {
   "cell_type": "code",
   "execution_count": 1,
   "metadata": {
    "colab": {},
    "colab_type": "code",
    "id": "XXCeLfHg9MEu"
   },
   "outputs": [],
   "source": [
    "# Imports\n",
    "import requests\n",
    "import pandas as pd\n",
    "from bs4 import BeautifulSoup\n",
    "import numpy as np"
   ]
  },
  {
   "cell_type": "markdown",
   "metadata": {
    "colab_type": "text",
    "id": "FxMyBW_2Ah5l"
   },
   "source": [
    "## Searching the HTML using a class\n",
    "Every website is going to have some conventions for formatting pages and the information that we ultimately want to acquire. This is likely going to come in the form of CSS classes, especially if the website logic is dynamic and they are producing many pages with different information using the same template file. Thus, being able to isolate those elements using a distinct class is incredibly useful for us. \n",
    "\n",
    "This can be achieved through a special use case of the `find_all()` function ([Documentation](https://www.crummy.com/software/BeautifulSoup/bs4/doc/#searching-by-css-class)).  \n",
    "\n",
    "In my example here, I am going to be trying to scrape all the information about the gins that are available from the site 'Master of Malt'. "
   ]
  },
  {
   "cell_type": "code",
   "execution_count": 2,
   "metadata": {
    "colab": {
     "base_uri": "https://localhost:8080/",
     "height": 68
    },
    "colab_type": "code",
    "executionInfo": {
     "elapsed": 1534,
     "status": "ok",
     "timestamp": 1542840585739,
     "user": {
      "displayName": "William Canniford",
      "photoUrl": "",
      "userId": "08233812395679008502"
     },
     "user_tz": 0
    },
    "id": "JIwNTdfG9i5W",
    "outputId": "3207c27a-c07c-450b-a4a5-5369d489018d"
   },
   "outputs": [
    {
     "name": "stdout",
     "output_type": "stream",
     "text": [
      "<class 'bs4.BeautifulSoup'>\n",
      "\r\n",
      "\tGin - Master of Malt\r\n",
      "\n"
     ]
    }
   ],
   "source": [
    "# soup.find_all(class_=\"sectionHeader\")\n",
    "\n",
    "url = \"https://www.masterofmalt.com/gin/\"\n",
    "\n",
    "# By setting a cookie for this example, I am able to obtain the prices in GBP\n",
    "# This was something I had to do, as the default when running this was giving me USD\n",
    "# I investigated the console through my browser and realised that setting this fixed the issue I was having\n",
    "cookies = dict(MaOMa='VisitorID=556630649&IsVATableCountry=1&CountryID=464&CurrencyID=-1&CountryCodeShort=GB&DeliveryCountrySavedToDB=1')\n",
    "\n",
    "html = requests.get(url, headers = {\"Accept-Language\": \"en-GB\"}, cookies = cookies).text \n",
    "\n",
    "soup = BeautifulSoup(html, features=\"html.parser\")\n",
    "\n",
    "# View that the object type that we have created is a `bs4.BeautifulSoup`\n",
    "print(type(soup))\n",
    "\n",
    "# Print the title of the page\n",
    "print(soup.title.get_text())"
   ]
  },
  {
   "cell_type": "markdown",
   "metadata": {},
   "source": [
    "Since all of the gins for the site aren't on a single page, we are going to have to work out a way to loop through the pages. This will inevitably start with me finding the pagination section on the page and getting all the links.  \n",
    "\n",
    "Once we have the links we should start working on a system for noting which ones we have visited and which we are yet to scrape. "
   ]
  },
  {
   "cell_type": "code",
   "execution_count": 3,
   "metadata": {
    "colab": {
     "base_uri": "https://localhost:8080/",
     "height": 34
    },
    "colab_type": "code",
    "executionInfo": {
     "elapsed": 457,
     "status": "ok",
     "timestamp": 1542837744835,
     "user": {
      "displayName": "William Canniford",
      "photoUrl": "",
      "userId": "08233812395679008502"
     },
     "user_tz": 0
    },
    "id": "ZmypPAZL8cAT",
    "outputId": "420c9edb-bb75-4005-c4fc-896da48440d8"
   },
   "outputs": [],
   "source": [
    "pagination = soup.find_all(class_='list-paging')\n",
    "# We can print to see what we have, looks as though we have two versions of the same thing\n",
    "# print(pagination)\n",
    "\n",
    "# Note on why you access the first element, to go from result set to something you can call find_all on again\n",
    "# https://stackoverflow.com/questions/24108507/beautiful-soup-resultset-object-has-no-attribute-find-all\n",
    "\n",
    "# Remove all the anchor tags from the pagination html\n",
    "pagination_links = pagination[0].find_all('a')\n",
    "# pagination[0].find_all('a')[0].get('href') == url"
   ]
  },
  {
   "cell_type": "markdown",
   "metadata": {},
   "source": [
    "Below we can loop through and extract the href from all the anchor tags that aren't our original url. This will surely form the basis of our navigation system through the site for the scraper. "
   ]
  },
  {
   "cell_type": "code",
   "execution_count": 4,
   "metadata": {
    "colab": {
     "base_uri": "https://localhost:8080/",
     "height": 102
    },
    "colab_type": "code",
    "executionInfo": {
     "elapsed": 437,
     "status": "ok",
     "timestamp": 1542753209875,
     "user": {
      "displayName": "William Canniford",
      "photoUrl": "",
      "userId": "08233812395679008502"
     },
     "user_tz": 0
    },
    "id": "z0tUUpNMDcT_",
    "outputId": "18a53df7-fcd4-4fc4-bbf5-53db19e2771c"
   },
   "outputs": [
    {
     "data": {
      "text/plain": [
       "['https://www.masterofmalt.com/gin/2',\n",
       " 'https://www.masterofmalt.com/gin/3',\n",
       " 'https://www.masterofmalt.com/gin/4',\n",
       " 'https://www.masterofmalt.com/gin/5',\n",
       " 'https://www.masterofmalt.com/gin/6']"
      ]
     },
     "execution_count": 4,
     "metadata": {},
     "output_type": "execute_result"
    }
   ],
   "source": [
    "[link.get('href') for link in pagination_links if link.get('href') != url]"
   ]
  },
  {
   "cell_type": "markdown",
   "metadata": {},
   "source": [
    "You can inspect the pages that you are going to loop through, and note constant elements that are going to act as the starting point for your data collection.  \n",
    "\n"
   ]
  },
  {
   "cell_type": "code",
   "execution_count": 5,
   "metadata": {
    "colab": {
     "base_uri": "https://localhost:8080/",
     "height": 442
    },
    "colab_type": "code",
    "executionInfo": {
     "elapsed": 556,
     "status": "ok",
     "timestamp": 1542840589656,
     "user": {
      "displayName": "William Canniford",
      "photoUrl": "",
      "userId": "08233812395679008502"
     },
     "user_tz": 0
    },
    "id": "mDA-XbE4QcvQ",
    "outputId": "07bd3c96-c8da-4b47-9405-60edbc70bc14"
   },
   "outputs": [
    {
     "data": {
      "text/plain": [
       "['£69.95',\n",
       " '£17.95',\n",
       " '£33.75',\n",
       " '£84.95',\n",
       " '£84.95',\n",
       " '£21.95',\n",
       " '£84.95',\n",
       " '£21',\n",
       " '£14.95',\n",
       " '£34.70',\n",
       " '£24.95',\n",
       " '£27.83',\n",
       " '£28.95',\n",
       " '£29.95',\n",
       " '£27.19',\n",
       " '£34.95',\n",
       " '£30.20',\n",
       " '£23',\n",
       " '£52.95',\n",
       " '£23.95',\n",
       " '£21',\n",
       " '£24.99',\n",
       " '£22.95',\n",
       " '£24.90',\n",
       " '£21']"
      ]
     },
     "execution_count": 5,
     "metadata": {},
     "output_type": "execute_result"
    }
   ],
   "source": [
    "# Original url looping\n",
    "# The class \"boxBgr product-box-wide h-gutter js-product-box-wide\" \n",
    "#   appears on all the main drink elements for the index page \n",
    "main_product_boxes = soup.find_all(class_=\"boxBgr product-box-wide h-gutter js-product-box-wide\")\n",
    "\n",
    "# Loop through each element and get the current price span/div and then the contained text (price)\n",
    "[product.find(class_=\"product-box-wide-price gold\").get_text() for product in main_product_boxes]"
   ]
  },
  {
   "cell_type": "code",
   "execution_count": 6,
   "metadata": {},
   "outputs": [
    {
     "data": {
      "text/plain": [
       "['74326',\n",
       " '70039',\n",
       " '13362',\n",
       " '74332',\n",
       " '74322',\n",
       " '70035',\n",
       " '74320',\n",
       " '62662',\n",
       " '83919',\n",
       " '55071',\n",
       " '67485',\n",
       " '5227',\n",
       " '10031',\n",
       " '55709',\n",
       " '47796',\n",
       " '65369',\n",
       " '41772',\n",
       " '3020',\n",
       " '43965',\n",
       " '70034',\n",
       " '71772',\n",
       " '73022',\n",
       " '30166',\n",
       " '68670',\n",
       " '71771']"
      ]
     },
     "execution_count": 6,
     "metadata": {},
     "output_type": "execute_result"
    }
   ],
   "source": [
    "# Get the product ids from the data property on the element\n",
    "# Could potentially be a way of avoiding duplication of results\n",
    "[main_product_box.get('data-productid') for main_product_box in main_product_boxes]"
   ]
  },
  {
   "cell_type": "code",
   "execution_count": 7,
   "metadata": {
    "colab": {
     "base_uri": "https://localhost:8080/",
     "height": 442
    },
    "colab_type": "code",
    "executionInfo": {
     "elapsed": 500,
     "status": "ok",
     "timestamp": 1542838796252,
     "user": {
      "displayName": "William Canniford",
      "photoUrl": "",
      "userId": "08233812395679008502"
     },
     "user_tz": 0
    },
    "id": "0fPPpQrBQzhl",
    "outputId": "13bd12d9-4390-4fd5-9840-c07b8d69129f"
   },
   "outputs": [],
   "source": [
    "product_details = []\n",
    "\n",
    "for product in main_product_boxes:\n",
    "    name = product.find('h3').get_text()\n",
    "    volume_strength = product.find(class_=\"product-box-wide-volume gold\").get_text()\n",
    "    optional_rating = product.select('span[id$=ratingStars]')\n",
    "#     print(len(optional_rating))\n",
    "    if len(optional_rating) > 0:\n",
    "        rating = optional_rating[0].get('title')\n",
    "    else:\n",
    "        rating = 'Unknown'\n",
    "    review_count = product.select('span[id$=reviewCount]')[0].get_text() if len(product.select('span[id$=reviewCount]')) > 0 else 'Unknown'\n",
    "    price = product.find(class_=\"product-box-wide-price gold\").get_text()\n",
    "    product_details.append([name, volume_strength, rating, review_count, price])"
   ]
  },
  {
   "cell_type": "code",
   "execution_count": 8,
   "metadata": {
    "colab": {},
    "colab_type": "code",
    "id": "3QTZ0JbGU6Dy"
   },
   "outputs": [],
   "source": [
    "gin_df = pd.DataFrame(product_details)"
   ]
  },
  {
   "cell_type": "code",
   "execution_count": 9,
   "metadata": {
    "colab": {
     "base_uri": "https://localhost:8080/",
     "height": 204
    },
    "colab_type": "code",
    "executionInfo": {
     "elapsed": 501,
     "status": "ok",
     "timestamp": 1542838799023,
     "user": {
      "displayName": "William Canniford",
      "photoUrl": "",
      "userId": "08233812395679008502"
     },
     "user_tz": 0
    },
    "id": "frdNcGY_S-Yq",
    "outputId": "88e66215-4b27-40c9-ed15-2b141e06d499"
   },
   "outputs": [
    {
     "data": {
      "text/html": [
       "<div>\n",
       "<style scoped>\n",
       "    .dataframe tbody tr th:only-of-type {\n",
       "        vertical-align: middle;\n",
       "    }\n",
       "\n",
       "    .dataframe tbody tr th {\n",
       "        vertical-align: top;\n",
       "    }\n",
       "\n",
       "    .dataframe thead th {\n",
       "        text-align: right;\n",
       "    }\n",
       "</style>\n",
       "<table border=\"1\" class=\"dataframe\">\n",
       "  <thead>\n",
       "    <tr style=\"text-align: right;\">\n",
       "      <th></th>\n",
       "      <th>Gin</th>\n",
       "      <th>Vol_Strength</th>\n",
       "      <th>Rating</th>\n",
       "      <th>Review_count</th>\n",
       "      <th>Price</th>\n",
       "    </tr>\n",
       "  </thead>\n",
       "  <tbody>\n",
       "    <tr>\n",
       "      <th>0</th>\n",
       "      <td>That Boutique-y Gin Company Advent Calendar (2...</td>\n",
       "      <td>72cl, 45.4%</td>\n",
       "      <td>Rating (5/5)</td>\n",
       "      <td>4 Reviews</td>\n",
       "      <td>£69.95</td>\n",
       "    </tr>\n",
       "    <tr>\n",
       "      <th>1</th>\n",
       "      <td>Peaky Blinder Spiced Dry Gin</td>\n",
       "      <td>70cl, 40%</td>\n",
       "      <td>Rating (4.5/5)</td>\n",
       "      <td>15 Reviews</td>\n",
       "      <td>£17.95</td>\n",
       "    </tr>\n",
       "    <tr>\n",
       "      <th>2</th>\n",
       "      <td>Monkey 47 Dry Gin</td>\n",
       "      <td>50cl, 47%</td>\n",
       "      <td>Rating (4.5/5)</td>\n",
       "      <td>117 Reviews</td>\n",
       "      <td>£33.75</td>\n",
       "    </tr>\n",
       "    <tr>\n",
       "      <th>3</th>\n",
       "      <td>Ginvent Calendar (2018 Edition)</td>\n",
       "      <td>72cl, 45%</td>\n",
       "      <td>Unknown</td>\n",
       "      <td>Unknown</td>\n",
       "      <td>£84.95</td>\n",
       "    </tr>\n",
       "    <tr>\n",
       "      <th>4</th>\n",
       "      <td>Gin Advent Calendar - Themed (2018 Edition)</td>\n",
       "      <td>72cl, 43.3%</td>\n",
       "      <td>Rating (5/5)</td>\n",
       "      <td>1 Review</td>\n",
       "      <td>£84.95</td>\n",
       "    </tr>\n",
       "  </tbody>\n",
       "</table>\n",
       "</div>"
      ],
      "text/plain": [
       "                                                 Gin Vol_Strength  \\\n",
       "0  That Boutique-y Gin Company Advent Calendar (2...  72cl, 45.4%   \n",
       "1                       Peaky Blinder Spiced Dry Gin    70cl, 40%   \n",
       "2                                  Monkey 47 Dry Gin    50cl, 47%   \n",
       "3                    Ginvent Calendar (2018 Edition)    72cl, 45%   \n",
       "4        Gin Advent Calendar - Themed (2018 Edition)  72cl, 43.3%   \n",
       "\n",
       "           Rating Review_count   Price  \n",
       "0    Rating (5/5)    4 Reviews  £69.95  \n",
       "1  Rating (4.5/5)   15 Reviews  £17.95  \n",
       "2  Rating (4.5/5)  117 Reviews  £33.75  \n",
       "3         Unknown      Unknown  £84.95  \n",
       "4    Rating (5/5)     1 Review  £84.95  "
      ]
     },
     "execution_count": 9,
     "metadata": {},
     "output_type": "execute_result"
    }
   ],
   "source": [
    "gin_df.columns = ['Gin', 'Vol_Strength', 'Rating', 'Review_count', 'Price']\n",
    "gin_df.head()"
   ]
  },
  {
   "cell_type": "code",
   "execution_count": 10,
   "metadata": {
    "colab": {},
    "colab_type": "code",
    "id": "AAP6AY7cTXUR"
   },
   "outputs": [],
   "source": [
    "split = gin_df['Vol_Strength'].str.split(',', expand = True)"
   ]
  },
  {
   "cell_type": "code",
   "execution_count": 11,
   "metadata": {
    "colab": {
     "base_uri": "https://localhost:8080/",
     "height": 824
    },
    "colab_type": "code",
    "executionInfo": {
     "elapsed": 457,
     "status": "ok",
     "timestamp": 1542838032266,
     "user": {
      "displayName": "William Canniford",
      "photoUrl": "",
      "userId": "08233812395679008502"
     },
     "user_tz": 0
    },
    "id": "oz1hOSnLT3Vl",
    "outputId": "9002d5b0-9a83-4654-f12f-f1e55f0478d9"
   },
   "outputs": [
    {
     "data": {
      "text/html": [
       "<div>\n",
       "<style scoped>\n",
       "    .dataframe tbody tr th:only-of-type {\n",
       "        vertical-align: middle;\n",
       "    }\n",
       "\n",
       "    .dataframe tbody tr th {\n",
       "        vertical-align: top;\n",
       "    }\n",
       "\n",
       "    .dataframe thead th {\n",
       "        text-align: right;\n",
       "    }\n",
       "</style>\n",
       "<table border=\"1\" class=\"dataframe\">\n",
       "  <thead>\n",
       "    <tr style=\"text-align: right;\">\n",
       "      <th></th>\n",
       "      <th>0</th>\n",
       "      <th>1</th>\n",
       "    </tr>\n",
       "  </thead>\n",
       "  <tbody>\n",
       "    <tr>\n",
       "      <th>0</th>\n",
       "      <td>72cl</td>\n",
       "      <td>45.4%</td>\n",
       "    </tr>\n",
       "    <tr>\n",
       "      <th>1</th>\n",
       "      <td>70cl</td>\n",
       "      <td>40%</td>\n",
       "    </tr>\n",
       "    <tr>\n",
       "      <th>2</th>\n",
       "      <td>50cl</td>\n",
       "      <td>47%</td>\n",
       "    </tr>\n",
       "    <tr>\n",
       "      <th>3</th>\n",
       "      <td>72cl</td>\n",
       "      <td>45%</td>\n",
       "    </tr>\n",
       "    <tr>\n",
       "      <th>4</th>\n",
       "      <td>72cl</td>\n",
       "      <td>43.3%</td>\n",
       "    </tr>\n",
       "    <tr>\n",
       "      <th>5</th>\n",
       "      <td>70cl</td>\n",
       "      <td>41.3%</td>\n",
       "    </tr>\n",
       "    <tr>\n",
       "      <th>6</th>\n",
       "      <td>72cl</td>\n",
       "      <td>43.3%</td>\n",
       "    </tr>\n",
       "    <tr>\n",
       "      <th>7</th>\n",
       "      <td>70cl</td>\n",
       "      <td>43%</td>\n",
       "    </tr>\n",
       "    <tr>\n",
       "      <th>8</th>\n",
       "      <td>15cl</td>\n",
       "      <td>40.9%</td>\n",
       "    </tr>\n",
       "    <tr>\n",
       "      <th>9</th>\n",
       "      <td>70cl</td>\n",
       "      <td>44%</td>\n",
       "    </tr>\n",
       "    <tr>\n",
       "      <th>10</th>\n",
       "      <td>30cl</td>\n",
       "      <td>42%</td>\n",
       "    </tr>\n",
       "    <tr>\n",
       "      <th>11</th>\n",
       "      <td>70cl</td>\n",
       "      <td>40%</td>\n",
       "    </tr>\n",
       "    <tr>\n",
       "      <th>12</th>\n",
       "      <td>70cl</td>\n",
       "      <td>43.3%</td>\n",
       "    </tr>\n",
       "    <tr>\n",
       "      <th>13</th>\n",
       "      <td>50cl</td>\n",
       "      <td>40%</td>\n",
       "    </tr>\n",
       "    <tr>\n",
       "      <th>14</th>\n",
       "      <td>70cl</td>\n",
       "      <td>46%</td>\n",
       "    </tr>\n",
       "    <tr>\n",
       "      <th>15</th>\n",
       "      <td>50cl</td>\n",
       "      <td>46%</td>\n",
       "    </tr>\n",
       "    <tr>\n",
       "      <th>16</th>\n",
       "      <td>70cl</td>\n",
       "      <td>43%</td>\n",
       "    </tr>\n",
       "    <tr>\n",
       "      <th>17</th>\n",
       "      <td>70cl</td>\n",
       "      <td>41.4%</td>\n",
       "    </tr>\n",
       "    <tr>\n",
       "      <th>18</th>\n",
       "      <td>70cl</td>\n",
       "      <td>42%</td>\n",
       "    </tr>\n",
       "    <tr>\n",
       "      <th>19</th>\n",
       "      <td>70cl</td>\n",
       "      <td>41.3%</td>\n",
       "    </tr>\n",
       "    <tr>\n",
       "      <th>20</th>\n",
       "      <td>70cl</td>\n",
       "      <td>43%</td>\n",
       "    </tr>\n",
       "    <tr>\n",
       "      <th>21</th>\n",
       "      <td>70cl</td>\n",
       "      <td>41%</td>\n",
       "    </tr>\n",
       "    <tr>\n",
       "      <th>22</th>\n",
       "      <td>50cl</td>\n",
       "      <td>33.8%</td>\n",
       "    </tr>\n",
       "    <tr>\n",
       "      <th>23</th>\n",
       "      <td>70cl</td>\n",
       "      <td>43%</td>\n",
       "    </tr>\n",
       "    <tr>\n",
       "      <th>24</th>\n",
       "      <td>70cl</td>\n",
       "      <td>43%</td>\n",
       "    </tr>\n",
       "  </tbody>\n",
       "</table>\n",
       "</div>"
      ],
      "text/plain": [
       "       0       1\n",
       "0   72cl   45.4%\n",
       "1   70cl     40%\n",
       "2   50cl     47%\n",
       "3   72cl     45%\n",
       "4   72cl   43.3%\n",
       "5   70cl   41.3%\n",
       "6   72cl   43.3%\n",
       "7   70cl     43%\n",
       "8   15cl   40.9%\n",
       "9   70cl     44%\n",
       "10  30cl     42%\n",
       "11  70cl     40%\n",
       "12  70cl   43.3%\n",
       "13  50cl     40%\n",
       "14  70cl     46%\n",
       "15  50cl     46%\n",
       "16  70cl     43%\n",
       "17  70cl   41.4%\n",
       "18  70cl     42%\n",
       "19  70cl   41.3%\n",
       "20  70cl     43%\n",
       "21  70cl     41%\n",
       "22  50cl   33.8%\n",
       "23  70cl     43%\n",
       "24  70cl     43%"
      ]
     },
     "execution_count": 11,
     "metadata": {},
     "output_type": "execute_result"
    }
   ],
   "source": [
    "split"
   ]
  },
  {
   "cell_type": "code",
   "execution_count": 12,
   "metadata": {
    "colab": {},
    "colab_type": "code",
    "id": "nlzcOZmZT6aS"
   },
   "outputs": [],
   "source": [
    "gin_df['Volume'] = split[0]\n",
    "gin_df['Strength'] = split[1]\n",
    "gin_df.drop(columns = ['Vol_Strength'], inplace=True)"
   ]
  },
  {
   "cell_type": "code",
   "execution_count": 13,
   "metadata": {
    "colab": {
     "base_uri": "https://localhost:8080/",
     "height": 824
    },
    "colab_type": "code",
    "executionInfo": {
     "elapsed": 514,
     "status": "ok",
     "timestamp": 1542838146356,
     "user": {
      "displayName": "William Canniford",
      "photoUrl": "",
      "userId": "08233812395679008502"
     },
     "user_tz": 0
    },
    "id": "D9VwAujeT74B",
    "outputId": "265129e4-92dd-44a1-a3f4-4122b6baa97c"
   },
   "outputs": [
    {
     "data": {
      "text/html": [
       "<div>\n",
       "<style scoped>\n",
       "    .dataframe tbody tr th:only-of-type {\n",
       "        vertical-align: middle;\n",
       "    }\n",
       "\n",
       "    .dataframe tbody tr th {\n",
       "        vertical-align: top;\n",
       "    }\n",
       "\n",
       "    .dataframe thead th {\n",
       "        text-align: right;\n",
       "    }\n",
       "</style>\n",
       "<table border=\"1\" class=\"dataframe\">\n",
       "  <thead>\n",
       "    <tr style=\"text-align: right;\">\n",
       "      <th></th>\n",
       "      <th>Gin</th>\n",
       "      <th>Rating</th>\n",
       "      <th>Review_count</th>\n",
       "      <th>Price</th>\n",
       "      <th>Volume</th>\n",
       "      <th>Strength</th>\n",
       "    </tr>\n",
       "  </thead>\n",
       "  <tbody>\n",
       "    <tr>\n",
       "      <th>0</th>\n",
       "      <td>That Boutique-y Gin Company Advent Calendar (2...</td>\n",
       "      <td>Rating (5/5)</td>\n",
       "      <td>4 Reviews</td>\n",
       "      <td>£69.95</td>\n",
       "      <td>72cl</td>\n",
       "      <td>45.4%</td>\n",
       "    </tr>\n",
       "    <tr>\n",
       "      <th>1</th>\n",
       "      <td>Peaky Blinder Spiced Dry Gin</td>\n",
       "      <td>Rating (4.5/5)</td>\n",
       "      <td>15 Reviews</td>\n",
       "      <td>£17.95</td>\n",
       "      <td>70cl</td>\n",
       "      <td>40%</td>\n",
       "    </tr>\n",
       "    <tr>\n",
       "      <th>2</th>\n",
       "      <td>Monkey 47 Dry Gin</td>\n",
       "      <td>Rating (4.5/5)</td>\n",
       "      <td>117 Reviews</td>\n",
       "      <td>£33.75</td>\n",
       "      <td>50cl</td>\n",
       "      <td>47%</td>\n",
       "    </tr>\n",
       "    <tr>\n",
       "      <th>3</th>\n",
       "      <td>Ginvent Calendar (2018 Edition)</td>\n",
       "      <td>Unknown</td>\n",
       "      <td>Unknown</td>\n",
       "      <td>£84.95</td>\n",
       "      <td>72cl</td>\n",
       "      <td>45%</td>\n",
       "    </tr>\n",
       "    <tr>\n",
       "      <th>4</th>\n",
       "      <td>Gin Advent Calendar - Themed (2018 Edition)</td>\n",
       "      <td>Rating (5/5)</td>\n",
       "      <td>1 Review</td>\n",
       "      <td>£84.95</td>\n",
       "      <td>72cl</td>\n",
       "      <td>43.3%</td>\n",
       "    </tr>\n",
       "    <tr>\n",
       "      <th>5</th>\n",
       "      <td>Aber Falls Orange Marmalade Gin</td>\n",
       "      <td>Rating (4.5/5)</td>\n",
       "      <td>15 Reviews</td>\n",
       "      <td>£21.95</td>\n",
       "      <td>70cl</td>\n",
       "      <td>41.3%</td>\n",
       "    </tr>\n",
       "    <tr>\n",
       "      <th>6</th>\n",
       "      <td>Gin Advent Calendar (2018 Edition)</td>\n",
       "      <td>Unknown</td>\n",
       "      <td>Unknown</td>\n",
       "      <td>£84.95</td>\n",
       "      <td>72cl</td>\n",
       "      <td>43.3%</td>\n",
       "    </tr>\n",
       "    <tr>\n",
       "      <th>7</th>\n",
       "      <td>Whitley Neill Rhubarb &amp; Ginger Gin</td>\n",
       "      <td>Rating (3.5/5)</td>\n",
       "      <td>95 Reviews</td>\n",
       "      <td>£21</td>\n",
       "      <td>70cl</td>\n",
       "      <td>43%</td>\n",
       "    </tr>\n",
       "    <tr>\n",
       "      <th>8</th>\n",
       "      <td>Exclusive Gin Tasting Set #1</td>\n",
       "      <td>Unknown</td>\n",
       "      <td>Unknown</td>\n",
       "      <td>£14.95</td>\n",
       "      <td>15cl</td>\n",
       "      <td>40.9%</td>\n",
       "    </tr>\n",
       "    <tr>\n",
       "      <th>9</th>\n",
       "      <td>Salcombe Gin - Start Point</td>\n",
       "      <td>Rating (5/5)</td>\n",
       "      <td>9 Reviews</td>\n",
       "      <td>£34.70</td>\n",
       "      <td>70cl</td>\n",
       "      <td>44%</td>\n",
       "    </tr>\n",
       "    <tr>\n",
       "      <th>10</th>\n",
       "      <td>Pickering's Gin Christmas Baubles</td>\n",
       "      <td>Rating (5/5)</td>\n",
       "      <td>16 Reviews</td>\n",
       "      <td>£24.95</td>\n",
       "      <td>30cl</td>\n",
       "      <td>42%</td>\n",
       "    </tr>\n",
       "    <tr>\n",
       "      <th>11</th>\n",
       "      <td>Brockmans Intensely Smooth Gin</td>\n",
       "      <td>Rating (4/5)</td>\n",
       "      <td>65 Reviews</td>\n",
       "      <td>£27.83</td>\n",
       "      <td>70cl</td>\n",
       "      <td>40%</td>\n",
       "    </tr>\n",
       "    <tr>\n",
       "      <th>12</th>\n",
       "      <td>Bathtub Gin</td>\n",
       "      <td>Rating (4.5/5)</td>\n",
       "      <td>66 Reviews</td>\n",
       "      <td>£28.95</td>\n",
       "      <td>70cl</td>\n",
       "      <td>43.3%</td>\n",
       "    </tr>\n",
       "    <tr>\n",
       "      <th>13</th>\n",
       "      <td>Sharish Blue Magic Gin</td>\n",
       "      <td>Rating (4.5/5)</td>\n",
       "      <td>27 Reviews</td>\n",
       "      <td>£29.95</td>\n",
       "      <td>50cl</td>\n",
       "      <td>40%</td>\n",
       "    </tr>\n",
       "    <tr>\n",
       "      <th>14</th>\n",
       "      <td>Kew Organic Gin</td>\n",
       "      <td>Rating (5/5)</td>\n",
       "      <td>7 Reviews</td>\n",
       "      <td>£27.19</td>\n",
       "      <td>70cl</td>\n",
       "      <td>46%</td>\n",
       "    </tr>\n",
       "    <tr>\n",
       "      <th>15</th>\n",
       "      <td>Yuletide Gin (That Boutique-y Gin Company)</td>\n",
       "      <td>Rating (5/5)</td>\n",
       "      <td>7 Reviews</td>\n",
       "      <td>£34.95</td>\n",
       "      <td>50cl</td>\n",
       "      <td>46%</td>\n",
       "    </tr>\n",
       "    <tr>\n",
       "      <th>16</th>\n",
       "      <td>Silent Pool Gin</td>\n",
       "      <td>Rating (4.5/5)</td>\n",
       "      <td>28 Reviews</td>\n",
       "      <td>£30.20</td>\n",
       "      <td>70cl</td>\n",
       "      <td>43%</td>\n",
       "    </tr>\n",
       "    <tr>\n",
       "      <th>17</th>\n",
       "      <td>Hendrick's Gin</td>\n",
       "      <td>Rating (4/5)</td>\n",
       "      <td>24 Reviews</td>\n",
       "      <td>£23</td>\n",
       "      <td>70cl</td>\n",
       "      <td>41.4%</td>\n",
       "    </tr>\n",
       "    <tr>\n",
       "      <th>18</th>\n",
       "      <td>Forest Gin</td>\n",
       "      <td>Rating (5/5)</td>\n",
       "      <td>18 Reviews</td>\n",
       "      <td>£52.95</td>\n",
       "      <td>70cl</td>\n",
       "      <td>42%</td>\n",
       "    </tr>\n",
       "    <tr>\n",
       "      <th>19</th>\n",
       "      <td>Aber Falls Rhubarb &amp; Ginger Gin</td>\n",
       "      <td>Rating (4.5/5)</td>\n",
       "      <td>12 Reviews</td>\n",
       "      <td>£23.95</td>\n",
       "      <td>70cl</td>\n",
       "      <td>41.3%</td>\n",
       "    </tr>\n",
       "    <tr>\n",
       "      <th>20</th>\n",
       "      <td>Whitley Neill Blood Orange Gin</td>\n",
       "      <td>Rating (4.5/5)</td>\n",
       "      <td>11 Reviews</td>\n",
       "      <td>£21</td>\n",
       "      <td>70cl</td>\n",
       "      <td>43%</td>\n",
       "    </tr>\n",
       "    <tr>\n",
       "      <th>21</th>\n",
       "      <td>Malfy Gin Con Arancia</td>\n",
       "      <td>Rating (5/5)</td>\n",
       "      <td>2 Reviews</td>\n",
       "      <td>£24.99</td>\n",
       "      <td>70cl</td>\n",
       "      <td>41%</td>\n",
       "    </tr>\n",
       "    <tr>\n",
       "      <th>22</th>\n",
       "      <td>Bathtub Gin - Sloe Gin</td>\n",
       "      <td>Rating (4.5/5)</td>\n",
       "      <td>10 Reviews</td>\n",
       "      <td>£22.95</td>\n",
       "      <td>50cl</td>\n",
       "      <td>33.8%</td>\n",
       "    </tr>\n",
       "    <tr>\n",
       "      <th>23</th>\n",
       "      <td>Roku Gin</td>\n",
       "      <td>Rating (5/5)</td>\n",
       "      <td>16 Reviews</td>\n",
       "      <td>£24.90</td>\n",
       "      <td>70cl</td>\n",
       "      <td>43%</td>\n",
       "    </tr>\n",
       "    <tr>\n",
       "      <th>24</th>\n",
       "      <td>Whitley Neill Raspberry Gin</td>\n",
       "      <td>Rating (4.5/5)</td>\n",
       "      <td>6 Reviews</td>\n",
       "      <td>£21</td>\n",
       "      <td>70cl</td>\n",
       "      <td>43%</td>\n",
       "    </tr>\n",
       "  </tbody>\n",
       "</table>\n",
       "</div>"
      ],
      "text/plain": [
       "                                                  Gin          Rating  \\\n",
       "0   That Boutique-y Gin Company Advent Calendar (2...    Rating (5/5)   \n",
       "1                        Peaky Blinder Spiced Dry Gin  Rating (4.5/5)   \n",
       "2                                   Monkey 47 Dry Gin  Rating (4.5/5)   \n",
       "3                     Ginvent Calendar (2018 Edition)         Unknown   \n",
       "4         Gin Advent Calendar - Themed (2018 Edition)    Rating (5/5)   \n",
       "5                     Aber Falls Orange Marmalade Gin  Rating (4.5/5)   \n",
       "6                  Gin Advent Calendar (2018 Edition)         Unknown   \n",
       "7                  Whitley Neill Rhubarb & Ginger Gin  Rating (3.5/5)   \n",
       "8                        Exclusive Gin Tasting Set #1         Unknown   \n",
       "9                          Salcombe Gin - Start Point    Rating (5/5)   \n",
       "10                  Pickering's Gin Christmas Baubles    Rating (5/5)   \n",
       "11                     Brockmans Intensely Smooth Gin    Rating (4/5)   \n",
       "12                                        Bathtub Gin  Rating (4.5/5)   \n",
       "13                             Sharish Blue Magic Gin  Rating (4.5/5)   \n",
       "14                                    Kew Organic Gin    Rating (5/5)   \n",
       "15         Yuletide Gin (That Boutique-y Gin Company)    Rating (5/5)   \n",
       "16                                    Silent Pool Gin  Rating (4.5/5)   \n",
       "17                                     Hendrick's Gin    Rating (4/5)   \n",
       "18                                         Forest Gin    Rating (5/5)   \n",
       "19                    Aber Falls Rhubarb & Ginger Gin  Rating (4.5/5)   \n",
       "20                     Whitley Neill Blood Orange Gin  Rating (4.5/5)   \n",
       "21                              Malfy Gin Con Arancia    Rating (5/5)   \n",
       "22                             Bathtub Gin - Sloe Gin  Rating (4.5/5)   \n",
       "23                                           Roku Gin    Rating (5/5)   \n",
       "24                        Whitley Neill Raspberry Gin  Rating (4.5/5)   \n",
       "\n",
       "   Review_count   Price Volume Strength  \n",
       "0     4 Reviews  £69.95   72cl    45.4%  \n",
       "1    15 Reviews  £17.95   70cl      40%  \n",
       "2   117 Reviews  £33.75   50cl      47%  \n",
       "3       Unknown  £84.95   72cl      45%  \n",
       "4      1 Review  £84.95   72cl    43.3%  \n",
       "5    15 Reviews  £21.95   70cl    41.3%  \n",
       "6       Unknown  £84.95   72cl    43.3%  \n",
       "7    95 Reviews     £21   70cl      43%  \n",
       "8       Unknown  £14.95   15cl    40.9%  \n",
       "9     9 Reviews  £34.70   70cl      44%  \n",
       "10   16 Reviews  £24.95   30cl      42%  \n",
       "11   65 Reviews  £27.83   70cl      40%  \n",
       "12   66 Reviews  £28.95   70cl    43.3%  \n",
       "13   27 Reviews  £29.95   50cl      40%  \n",
       "14    7 Reviews  £27.19   70cl      46%  \n",
       "15    7 Reviews  £34.95   50cl      46%  \n",
       "16   28 Reviews  £30.20   70cl      43%  \n",
       "17   24 Reviews     £23   70cl    41.4%  \n",
       "18   18 Reviews  £52.95   70cl      42%  \n",
       "19   12 Reviews  £23.95   70cl    41.3%  \n",
       "20   11 Reviews     £21   70cl      43%  \n",
       "21    2 Reviews  £24.99   70cl      41%  \n",
       "22   10 Reviews  £22.95   50cl    33.8%  \n",
       "23   16 Reviews  £24.90   70cl      43%  \n",
       "24    6 Reviews     £21   70cl      43%  "
      ]
     },
     "execution_count": 13,
     "metadata": {},
     "output_type": "execute_result"
    }
   ],
   "source": [
    "gin_df"
   ]
  },
  {
   "cell_type": "code",
   "execution_count": 14,
   "metadata": {
    "colab": {},
    "colab_type": "code",
    "id": "150c7uPEUXuL"
   },
   "outputs": [],
   "source": [
    "import re"
   ]
  },
  {
   "cell_type": "code",
   "execution_count": 15,
   "metadata": {
    "colab": {
     "base_uri": "https://localhost:8080/",
     "height": 34
    },
    "colab_type": "code",
    "executionInfo": {
     "elapsed": 432,
     "status": "ok",
     "timestamp": 1542838563050,
     "user": {
      "displayName": "William Canniford",
      "photoUrl": "",
      "userId": "08233812395679008502"
     },
     "user_tz": 0
    },
    "id": "6P5AGohPUtbv",
    "outputId": "df54e796-eaf9-478a-9950-218471a1aec8"
   },
   "outputs": [
    {
     "data": {
      "text/plain": [
       "True"
      ]
     },
     "execution_count": 15,
     "metadata": {},
     "output_type": "execute_result"
    }
   ],
   "source": [
    "def extract_rating(string):\n",
    "    if bool(re.search(r'\\((.*?)\\)', string)):\n",
    "        return re.search(r'\\((.*?)\\)', string).group(1)\n",
    "    else:\n",
    "        return np.nan\n",
    "\n",
    "bool(re.search(r'\\((.*?)\\)',gin_df['Rating'][0]))"
   ]
  },
  {
   "cell_type": "code",
   "execution_count": 16,
   "metadata": {
    "colab": {},
    "colab_type": "code",
    "id": "qnkstGsvVLGT"
   },
   "outputs": [],
   "source": [
    "gin_df['Rating'] = gin_df['Rating'].apply(extract_rating)"
   ]
  },
  {
   "cell_type": "code",
   "execution_count": 17,
   "metadata": {
    "colab": {
     "base_uri": "https://localhost:8080/",
     "height": 204
    },
    "colab_type": "code",
    "executionInfo": {
     "elapsed": 449,
     "status": "ok",
     "timestamp": 1542838586566,
     "user": {
      "displayName": "William Canniford",
      "photoUrl": "",
      "userId": "08233812395679008502"
     },
     "user_tz": 0
    },
    "id": "SrN_v8cSVtqq",
    "outputId": "e99a43ec-2b01-4125-d754-23c7651ca670"
   },
   "outputs": [
    {
     "data": {
      "text/html": [
       "<div>\n",
       "<style scoped>\n",
       "    .dataframe tbody tr th:only-of-type {\n",
       "        vertical-align: middle;\n",
       "    }\n",
       "\n",
       "    .dataframe tbody tr th {\n",
       "        vertical-align: top;\n",
       "    }\n",
       "\n",
       "    .dataframe thead th {\n",
       "        text-align: right;\n",
       "    }\n",
       "</style>\n",
       "<table border=\"1\" class=\"dataframe\">\n",
       "  <thead>\n",
       "    <tr style=\"text-align: right;\">\n",
       "      <th></th>\n",
       "      <th>Gin</th>\n",
       "      <th>Rating</th>\n",
       "      <th>Review_count</th>\n",
       "      <th>Price</th>\n",
       "      <th>Volume</th>\n",
       "      <th>Strength</th>\n",
       "    </tr>\n",
       "  </thead>\n",
       "  <tbody>\n",
       "    <tr>\n",
       "      <th>0</th>\n",
       "      <td>That Boutique-y Gin Company Advent Calendar (2...</td>\n",
       "      <td>5/5</td>\n",
       "      <td>4 Reviews</td>\n",
       "      <td>£69.95</td>\n",
       "      <td>72cl</td>\n",
       "      <td>45.4%</td>\n",
       "    </tr>\n",
       "    <tr>\n",
       "      <th>1</th>\n",
       "      <td>Peaky Blinder Spiced Dry Gin</td>\n",
       "      <td>4.5/5</td>\n",
       "      <td>15 Reviews</td>\n",
       "      <td>£17.95</td>\n",
       "      <td>70cl</td>\n",
       "      <td>40%</td>\n",
       "    </tr>\n",
       "    <tr>\n",
       "      <th>2</th>\n",
       "      <td>Monkey 47 Dry Gin</td>\n",
       "      <td>4.5/5</td>\n",
       "      <td>117 Reviews</td>\n",
       "      <td>£33.75</td>\n",
       "      <td>50cl</td>\n",
       "      <td>47%</td>\n",
       "    </tr>\n",
       "    <tr>\n",
       "      <th>3</th>\n",
       "      <td>Ginvent Calendar (2018 Edition)</td>\n",
       "      <td>NaN</td>\n",
       "      <td>Unknown</td>\n",
       "      <td>£84.95</td>\n",
       "      <td>72cl</td>\n",
       "      <td>45%</td>\n",
       "    </tr>\n",
       "    <tr>\n",
       "      <th>4</th>\n",
       "      <td>Gin Advent Calendar - Themed (2018 Edition)</td>\n",
       "      <td>5/5</td>\n",
       "      <td>1 Review</td>\n",
       "      <td>£84.95</td>\n",
       "      <td>72cl</td>\n",
       "      <td>43.3%</td>\n",
       "    </tr>\n",
       "  </tbody>\n",
       "</table>\n",
       "</div>"
      ],
      "text/plain": [
       "                                                 Gin Rating Review_count  \\\n",
       "0  That Boutique-y Gin Company Advent Calendar (2...    5/5    4 Reviews   \n",
       "1                       Peaky Blinder Spiced Dry Gin  4.5/5   15 Reviews   \n",
       "2                                  Monkey 47 Dry Gin  4.5/5  117 Reviews   \n",
       "3                    Ginvent Calendar (2018 Edition)    NaN      Unknown   \n",
       "4        Gin Advent Calendar - Themed (2018 Edition)    5/5     1 Review   \n",
       "\n",
       "    Price Volume Strength  \n",
       "0  £69.95   72cl    45.4%  \n",
       "1  £17.95   70cl      40%  \n",
       "2  £33.75   50cl      47%  \n",
       "3  £84.95   72cl      45%  \n",
       "4  £84.95   72cl    43.3%  "
      ]
     },
     "execution_count": 17,
     "metadata": {},
     "output_type": "execute_result"
    }
   ],
   "source": [
    "gin_df.head()"
   ]
  },
  {
   "cell_type": "code",
   "execution_count": 18,
   "metadata": {
    "colab": {},
    "colab_type": "code",
    "id": "_A-_tkw-WHsR"
   },
   "outputs": [],
   "source": [
    "# Before I fixed the cookies request issue\n",
    "# gin_df['Price'] = gin_df['Price'].str.replace('$', '£')"
   ]
  },
  {
   "cell_type": "code",
   "execution_count": 19,
   "metadata": {
    "colab": {},
    "colab_type": "code",
    "id": "-w15eKZ0WOdz"
   },
   "outputs": [],
   "source": [
    "def extract_review_count(string):\n",
    "    if string.find('Reviews') != -1:\n",
    "        return string.replace('Reviews', '')\n",
    "    elif string.find('1 Review') != -1:\n",
    "        return '1'\n",
    "    else:\n",
    "        return np.nan"
   ]
  },
  {
   "cell_type": "code",
   "execution_count": 20,
   "metadata": {
    "colab": {},
    "colab_type": "code",
    "id": "NsSNooGJWg-d"
   },
   "outputs": [],
   "source": [
    "gin_df['Review_count'] = gin_df['Review_count'].apply(extract_review_count)"
   ]
  },
  {
   "cell_type": "markdown",
   "metadata": {},
   "source": [
    "We can now have a look at the first few rows of the table to see that we have a much clearer data structure that is going to be much easier to work with for further analysis. "
   ]
  },
  {
   "cell_type": "code",
   "execution_count": 21,
   "metadata": {
    "colab": {
     "base_uri": "https://localhost:8080/",
     "height": 204
    },
    "colab_type": "code",
    "executionInfo": {
     "elapsed": 398,
     "status": "ok",
     "timestamp": 1542838708277,
     "user": {
      "displayName": "William Canniford",
      "photoUrl": "",
      "userId": "08233812395679008502"
     },
     "user_tz": 0
    },
    "id": "vD7Pl6KcWk3V",
    "outputId": "119c1002-6503-48b5-e875-b861ca8792f2"
   },
   "outputs": [
    {
     "data": {
      "text/html": [
       "<div>\n",
       "<style scoped>\n",
       "    .dataframe tbody tr th:only-of-type {\n",
       "        vertical-align: middle;\n",
       "    }\n",
       "\n",
       "    .dataframe tbody tr th {\n",
       "        vertical-align: top;\n",
       "    }\n",
       "\n",
       "    .dataframe thead th {\n",
       "        text-align: right;\n",
       "    }\n",
       "</style>\n",
       "<table border=\"1\" class=\"dataframe\">\n",
       "  <thead>\n",
       "    <tr style=\"text-align: right;\">\n",
       "      <th></th>\n",
       "      <th>Gin</th>\n",
       "      <th>Rating</th>\n",
       "      <th>Review_count</th>\n",
       "      <th>Price</th>\n",
       "      <th>Volume</th>\n",
       "      <th>Strength</th>\n",
       "    </tr>\n",
       "  </thead>\n",
       "  <tbody>\n",
       "    <tr>\n",
       "      <th>0</th>\n",
       "      <td>That Boutique-y Gin Company Advent Calendar (2...</td>\n",
       "      <td>5/5</td>\n",
       "      <td>4</td>\n",
       "      <td>£69.95</td>\n",
       "      <td>72cl</td>\n",
       "      <td>45.4%</td>\n",
       "    </tr>\n",
       "    <tr>\n",
       "      <th>1</th>\n",
       "      <td>Peaky Blinder Spiced Dry Gin</td>\n",
       "      <td>4.5/5</td>\n",
       "      <td>15</td>\n",
       "      <td>£17.95</td>\n",
       "      <td>70cl</td>\n",
       "      <td>40%</td>\n",
       "    </tr>\n",
       "    <tr>\n",
       "      <th>2</th>\n",
       "      <td>Monkey 47 Dry Gin</td>\n",
       "      <td>4.5/5</td>\n",
       "      <td>117</td>\n",
       "      <td>£33.75</td>\n",
       "      <td>50cl</td>\n",
       "      <td>47%</td>\n",
       "    </tr>\n",
       "    <tr>\n",
       "      <th>3</th>\n",
       "      <td>Ginvent Calendar (2018 Edition)</td>\n",
       "      <td>NaN</td>\n",
       "      <td>NaN</td>\n",
       "      <td>£84.95</td>\n",
       "      <td>72cl</td>\n",
       "      <td>45%</td>\n",
       "    </tr>\n",
       "    <tr>\n",
       "      <th>4</th>\n",
       "      <td>Gin Advent Calendar - Themed (2018 Edition)</td>\n",
       "      <td>5/5</td>\n",
       "      <td>1</td>\n",
       "      <td>£84.95</td>\n",
       "      <td>72cl</td>\n",
       "      <td>43.3%</td>\n",
       "    </tr>\n",
       "  </tbody>\n",
       "</table>\n",
       "</div>"
      ],
      "text/plain": [
       "                                                 Gin Rating Review_count  \\\n",
       "0  That Boutique-y Gin Company Advent Calendar (2...    5/5           4    \n",
       "1                       Peaky Blinder Spiced Dry Gin  4.5/5          15    \n",
       "2                                  Monkey 47 Dry Gin  4.5/5         117    \n",
       "3                    Ginvent Calendar (2018 Edition)    NaN          NaN   \n",
       "4        Gin Advent Calendar - Themed (2018 Edition)    5/5            1   \n",
       "\n",
       "    Price Volume Strength  \n",
       "0  £69.95   72cl    45.4%  \n",
       "1  £17.95   70cl      40%  \n",
       "2  £33.75   50cl      47%  \n",
       "3  £84.95   72cl      45%  \n",
       "4  £84.95   72cl    43.3%  "
      ]
     },
     "execution_count": 21,
     "metadata": {},
     "output_type": "execute_result"
    }
   ],
   "source": [
    "gin_df.head()"
   ]
  }
 ],
 "metadata": {
  "colab": {
   "collapsed_sections": [],
   "name": "web_scraping_guide.ipynb",
   "provenance": [],
   "version": "0.3.2"
  },
  "kernelspec": {
   "display_name": "Python 3",
   "language": "python",
   "name": "python3"
  },
  "language_info": {
   "codemirror_mode": {
    "name": "ipython",
    "version": 3
   },
   "file_extension": ".py",
   "mimetype": "text/x-python",
   "name": "python",
   "nbconvert_exporter": "python",
   "pygments_lexer": "ipython3",
   "version": "3.7.0"
  }
 },
 "nbformat": 4,
 "nbformat_minor": 2
}
