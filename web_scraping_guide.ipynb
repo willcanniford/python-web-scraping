{
 "cells": [
  {
   "cell_type": "markdown",
   "metadata": {
    "colab_type": "text",
    "id": "ptpxaHQc9NeT"
   },
   "source": [
    "# Web Scraping with Beautiful Soup\n",
    "I'm trying to build a guide for and develop my skills using the popular `BeautifulSoup` Python library ([Documentation](https://www.crummy.com/software/BeautifulSoup/bs4/doc/)) for web scraping, using realistic examples that I have come across when doing some web scraping projects.   \n",
    "<br>\n",
    "This will also provide me with a good opportunity to clean 'dirty' data and create data sets that are easily manipulated and worked with for further analysis, machine learning techniques or visualisations. \n",
    "\n",
    "---\n",
    "\n",
    "Basic flow:\n",
    "1. You have to scrape the raw html for a given url using `requests`\n",
    "2. You have to trim the information you want from that html via elements, classes and ids using `BeuatifulSoup`\n",
    "3. Manipulate that information into a easily usable format using `pandas`\n"
   ]
  },
  {
   "cell_type": "code",
   "execution_count": null,
   "metadata": {
    "colab": {},
    "colab_type": "code",
    "id": "XXCeLfHg9MEu"
   },
   "outputs": [],
   "source": [
    "# Imports\n",
    "import requests\n",
    "import pandas as pd\n",
    "from bs4 import BeautifulSoup\n",
    "import numpy as np"
   ]
  },
  {
   "cell_type": "markdown",
   "metadata": {
    "colab_type": "text",
    "id": "FxMyBW_2Ah5l"
   },
   "source": [
    "## Searching the HTML using a class\n",
    "Every website is going to have some conventions for formatting pages and the information that we ultimately want to acquire. This is likely going to come in the form of CSS classes, especially if the website logic is dynamic and they are producing many pages with different information using the same template file. Thus, being able to isolate those elements using a distinct class is incredibly useful for us. \n",
    "\n",
    "This can be achieved through a special use case of the `find_all()` function ([Documentation](https://www.crummy.com/software/BeautifulSoup/bs4/doc/#searching-by-css-class)). "
   ]
  },
  {
   "cell_type": "code",
   "execution_count": 77,
   "metadata": {
    "colab": {
     "base_uri": "https://localhost:8080/",
     "height": 68
    },
    "colab_type": "code",
    "executionInfo": {
     "elapsed": 1534,
     "status": "ok",
     "timestamp": 1542840585739,
     "user": {
      "displayName": "William Canniford",
      "photoUrl": "",
      "userId": "08233812395679008502"
     },
     "user_tz": 0
    },
    "id": "JIwNTdfG9i5W",
    "outputId": "3207c27a-c07c-450b-a4a5-5369d489018d"
   },
   "outputs": [
    {
     "name": "stdout",
     "output_type": "stream",
     "text": [
      "\n",
      "\tGin - Master of Malt\n",
      "\n"
     ]
    }
   ],
   "source": [
    "# soup.find_all(class_=\"sectionHeader\")\n",
    "\n",
    "url = \"https://www.masterofmalt.com/gin/\"\n",
    "\n",
    "cookies = dict(MaOMa='VisitorID=556630649&IsVATableCountry=1&CountryID=464&CurrencyID=-1&CountryCodeShort=GB&DeliveryCountrySavedToDB=1')\n",
    "\n",
    "# html = requests.get(url, headers = {\"Accept-Language\": \"en-GB\"}).text\n",
    "html = requests.get(url, headers = {\"Accept-Language\": \"en-GB\"}, cookies = cookies).text \n",
    "\n",
    "soup = BeautifulSoup(html, features=\"html.parser\")\n",
    "\n",
    "print(soup.title.get_text())"
   ]
  },
  {
   "cell_type": "code",
   "execution_count": null,
   "metadata": {
    "colab": {
     "base_uri": "https://localhost:8080/",
     "height": 34
    },
    "colab_type": "code",
    "executionInfo": {
     "elapsed": 457,
     "status": "ok",
     "timestamp": 1542837744835,
     "user": {
      "displayName": "William Canniford",
      "photoUrl": "",
      "userId": "08233812395679008502"
     },
     "user_tz": 0
    },
    "id": "ZmypPAZL8cAT",
    "outputId": "420c9edb-bb75-4005-c4fc-896da48440d8"
   },
   "outputs": [
    {
     "data": {
      "text/plain": [
       "True"
      ]
     },
     "execution_count": 5,
     "metadata": {
      "tags": []
     },
     "output_type": "execute_result"
    }
   ],
   "source": [
    "pagination = soup.find_all(class_='list-paging')\n",
    "# Note on why you access the first element, to go from result set to something you can call find_all on again\n",
    "# https://stackoverflow.com/questions/24108507/beautiful-soup-resultset-object-has-no-attribute-find-all\n",
    "pagination_links = pagination[0].find_all('a')\n",
    "pagination[0].find_all('a')[0].get('href') == url"
   ]
  },
  {
   "cell_type": "code",
   "execution_count": null,
   "metadata": {
    "colab": {
     "base_uri": "https://localhost:8080/",
     "height": 102
    },
    "colab_type": "code",
    "executionInfo": {
     "elapsed": 437,
     "status": "ok",
     "timestamp": 1542753209875,
     "user": {
      "displayName": "William Canniford",
      "photoUrl": "",
      "userId": "08233812395679008502"
     },
     "user_tz": 0
    },
    "id": "z0tUUpNMDcT_",
    "outputId": "18a53df7-fcd4-4fc4-bbf5-53db19e2771c"
   },
   "outputs": [
    {
     "data": {
      "text/plain": [
       "['https://www.masterofmalt.com/gin/2',\n",
       " 'https://www.masterofmalt.com/gin/3',\n",
       " 'https://www.masterofmalt.com/gin/4',\n",
       " 'https://www.masterofmalt.com/gin/5',\n",
       " 'https://www.masterofmalt.com/gin/6']"
      ]
     },
     "execution_count": 36,
     "metadata": {
      "tags": []
     },
     "output_type": "execute_result"
    }
   ],
   "source": [
    "[link.get('href') for link in pagination_links if link.get('href') != url]"
   ]
  },
  {
   "cell_type": "code",
   "execution_count": 78,
   "metadata": {
    "colab": {
     "base_uri": "https://localhost:8080/",
     "height": 442
    },
    "colab_type": "code",
    "executionInfo": {
     "elapsed": 556,
     "status": "ok",
     "timestamp": 1542840589656,
     "user": {
      "displayName": "William Canniford",
      "photoUrl": "",
      "userId": "08233812395679008502"
     },
     "user_tz": 0
    },
    "id": "mDA-XbE4QcvQ",
    "outputId": "07bd3c96-c8da-4b47-9405-60edbc70bc14"
   },
   "outputs": [
    {
     "data": {
      "text/plain": [
       "[<div class=\"product-box-wide-price gold\" id=\"ContentPlaceHolder1_ctl00_pricesWrapper\">£99.95</div>,\n",
       " <div class=\"product-box-wide-price gold\" id=\"ContentPlaceHolder1_ctl01_pricesWrapper\">£124.95</div>,\n",
       " <div class=\"product-box-wide-price gold\" id=\"ContentPlaceHolder1_ctl02_pricesWrapper\">£124.95</div>,\n",
       " <span class=\"product-box-wide-price gold\" id=\"ContentPlaceHolder1_ctl03_price\">£19.95</span>,\n",
       " <span class=\"product-box-wide-price gold\" id=\"ContentPlaceHolder1_ctl04_price\">£19.50</span>,\n",
       " <span class=\"product-box-wide-price gold\" id=\"ContentPlaceHolder1_ctl05_price\">£33.75</span>,\n",
       " <div class=\"product-box-wide-price gold\" id=\"ContentPlaceHolder1_ctl06_pricesWrapper\">£124.95</div>,\n",
       " <span class=\"product-box-wide-price gold\" id=\"ContentPlaceHolder1_ctl07_price\">£29.99</span>,\n",
       " <span class=\"product-box-wide-price gold\" id=\"ContentPlaceHolder1_ctl08_price\">£27.90</span>,\n",
       " <span class=\"product-box-wide-price gold\" id=\"ContentPlaceHolder1_ctl09_price\">£33.75</span>,\n",
       " <span class=\"product-box-wide-price gold\" id=\"ContentPlaceHolder1_ctl10_price\">£31.45</span>,\n",
       " <span class=\"product-box-wide-price gold\" id=\"ContentPlaceHolder1_ctl11_price\">£21</span>,\n",
       " <div class=\"product-box-wide-price gold\" id=\"ContentPlaceHolder1_ctl12_pricesWrapper\">£26.39</div>,\n",
       " <div class=\"product-box-wide-price gold\" id=\"ContentPlaceHolder1_ctl13_pricesWrapper\">£29.95</div>,\n",
       " <span class=\"product-box-wide-price gold\" id=\"ContentPlaceHolder1_ctl14_price\">£22</span>,\n",
       " <div class=\"product-box-wide-price gold\" id=\"ContentPlaceHolder1_ctl15_pricesWrapper\">£52.95</div>,\n",
       " <span class=\"product-box-wide-price gold\" id=\"ContentPlaceHolder1_ctl16_price\">£21</span>,\n",
       " <div class=\"product-box-wide-price gold\" id=\"ContentPlaceHolder1_ctl17_pricesWrapper\">£29.25</div>,\n",
       " <span class=\"product-box-wide-price gold\" id=\"ContentPlaceHolder1_ctl18_price\">£25</span>,\n",
       " <span class=\"product-box-wide-price gold\" id=\"ContentPlaceHolder1_ctl19_price\">£25</span>,\n",
       " <div class=\"product-box-wide-price gold\" id=\"ContentPlaceHolder1_ctl20_pricesWrapper\">£37.95</div>,\n",
       " <div class=\"product-box-wide-price gold\" id=\"ContentPlaceHolder1_ctl21_pricesWrapper\">£26.95</div>,\n",
       " <div class=\"product-box-wide-price gold\" id=\"ContentPlaceHolder1_ctl22_pricesWrapper\">£29.95</div>,\n",
       " <div class=\"product-box-wide-price gold\" id=\"ContentPlaceHolder1_ctl23_pricesWrapper\">£34.95</div>,\n",
       " <div class=\"product-box-wide-price gold\" id=\"ContentPlaceHolder1_ctl24_pricesWrapper\">£35.95</div>]"
      ]
     },
     "execution_count": 78,
     "metadata": {
      "tags": []
     },
     "output_type": "execute_result"
    }
   ],
   "source": [
    "# Main page looping\n",
    "main_product_boxes = soup.find_all(class_=\"boxBgr product-box-wide h-gutter js-product-box-wide\")\n",
    "[product.find(class_=\"product-box-wide-price gold\") for product in main_product_boxes]"
   ]
  },
  {
   "cell_type": "code",
   "execution_count": null,
   "metadata": {
    "colab": {
     "base_uri": "https://localhost:8080/",
     "height": 442
    },
    "colab_type": "code",
    "executionInfo": {
     "elapsed": 500,
     "status": "ok",
     "timestamp": 1542838796252,
     "user": {
      "displayName": "William Canniford",
      "photoUrl": "",
      "userId": "08233812395679008502"
     },
     "user_tz": 0
    },
    "id": "0fPPpQrBQzhl",
    "outputId": "13bd12d9-4390-4fd5-9840-c07b8d69129f"
   },
   "outputs": [
    {
     "name": "stdout",
     "output_type": "stream",
     "text": [
      "1\n",
      "0\n",
      "0\n",
      "1\n",
      "1\n",
      "1\n",
      "0\n",
      "1\n",
      "1\n",
      "1\n",
      "1\n",
      "1\n",
      "1\n",
      "1\n",
      "1\n",
      "1\n",
      "1\n",
      "1\n",
      "1\n",
      "1\n",
      "0\n",
      "0\n",
      "1\n",
      "1\n",
      "1\n"
     ]
    }
   ],
   "source": [
    "product_details = []\n",
    "\n",
    "for product in main_product_boxes:\n",
    "    name = product.find('h3').get_text()\n",
    "    volume_strength = product.find(class_=\"product-box-wide-volume gold\").get_text()\n",
    "    optional_rating = product.select('span[id$=ratingStars]')\n",
    "    print(len(optional_rating))\n",
    "    if len(optional_rating) > 0:\n",
    "        rating = optional_rating[0].get('title')\n",
    "    else:\n",
    "        rating = 'Unknown'\n",
    "    review_count = product.select('span[id$=reviewCount]')[0].get_text() if len(product.select('span[id$=reviewCount]')) > 0 else 'Unknown'\n",
    "    price = product.find(class_=\"product-box-wide-price gold\").get_text()\n",
    "    product_details.append([name, volume_strength, rating, review_count, price])"
   ]
  },
  {
   "cell_type": "code",
   "execution_count": null,
   "metadata": {
    "colab": {},
    "colab_type": "code",
    "id": "3QTZ0JbGU6Dy"
   },
   "outputs": [],
   "source": [
    "gin_df = pd.DataFrame(product_details)"
   ]
  },
  {
   "cell_type": "code",
   "execution_count": null,
   "metadata": {
    "colab": {
     "base_uri": "https://localhost:8080/",
     "height": 204
    },
    "colab_type": "code",
    "executionInfo": {
     "elapsed": 501,
     "status": "ok",
     "timestamp": 1542838799023,
     "user": {
      "displayName": "William Canniford",
      "photoUrl": "",
      "userId": "08233812395679008502"
     },
     "user_tz": 0
    },
    "id": "frdNcGY_S-Yq",
    "outputId": "88e66215-4b27-40c9-ed15-2b141e06d499"
   },
   "outputs": [
    {
     "data": {
      "text/html": [
       "<div>\n",
       "<style scoped>\n",
       "    .dataframe tbody tr th:only-of-type {\n",
       "        vertical-align: middle;\n",
       "    }\n",
       "\n",
       "    .dataframe tbody tr th {\n",
       "        vertical-align: top;\n",
       "    }\n",
       "\n",
       "    .dataframe thead th {\n",
       "        text-align: right;\n",
       "    }\n",
       "</style>\n",
       "<table border=\"1\" class=\"dataframe\">\n",
       "  <thead>\n",
       "    <tr style=\"text-align: right;\">\n",
       "      <th></th>\n",
       "      <th>Gin</th>\n",
       "      <th>Vol_Strength</th>\n",
       "      <th>Rating</th>\n",
       "      <th>Review_count</th>\n",
       "      <th>Price</th>\n",
       "    </tr>\n",
       "  </thead>\n",
       "  <tbody>\n",
       "    <tr>\n",
       "      <th>0</th>\n",
       "      <td>That Boutique-y Gin Company Advent Calendar (2...</td>\n",
       "      <td>72cl, 45.4%</td>\n",
       "      <td>Rating (4.5/5)</td>\n",
       "      <td>3 Reviews</td>\n",
       "      <td>$106.52</td>\n",
       "    </tr>\n",
       "    <tr>\n",
       "      <th>1</th>\n",
       "      <td>Ginvent Calendar (2018 Edition)</td>\n",
       "      <td>72cl, 45%</td>\n",
       "      <td>Unknown</td>\n",
       "      <td>Unknown</td>\n",
       "      <td>$133.16</td>\n",
       "    </tr>\n",
       "    <tr>\n",
       "      <th>2</th>\n",
       "      <td>Gin Advent Calendar - Themed (2018 Edition)</td>\n",
       "      <td>72cl, 43.3%</td>\n",
       "      <td>Unknown</td>\n",
       "      <td>Unknown</td>\n",
       "      <td>$133.16</td>\n",
       "    </tr>\n",
       "    <tr>\n",
       "      <th>3</th>\n",
       "      <td>Pickering's Gin Christmas Baubles</td>\n",
       "      <td>30cl, 42%</td>\n",
       "      <td>Rating (5/5)</td>\n",
       "      <td>16 Reviews</td>\n",
       "      <td>$21.26</td>\n",
       "    </tr>\n",
       "    <tr>\n",
       "      <th>4</th>\n",
       "      <td>Peaky Blinder Spiced Dry Gin</td>\n",
       "      <td>70cl, 40%</td>\n",
       "      <td>Rating (4.5/5)</td>\n",
       "      <td>15 Reviews</td>\n",
       "      <td>$20.78</td>\n",
       "    </tr>\n",
       "  </tbody>\n",
       "</table>\n",
       "</div>"
      ],
      "text/plain": [
       "                                                 Gin Vol_Strength  \\\n",
       "0  That Boutique-y Gin Company Advent Calendar (2...  72cl, 45.4%   \n",
       "1                    Ginvent Calendar (2018 Edition)    72cl, 45%   \n",
       "2        Gin Advent Calendar - Themed (2018 Edition)  72cl, 43.3%   \n",
       "3                  Pickering's Gin Christmas Baubles    30cl, 42%   \n",
       "4                       Peaky Blinder Spiced Dry Gin    70cl, 40%   \n",
       "\n",
       "           Rating Review_count    Price  \n",
       "0  Rating (4.5/5)    3 Reviews  $106.52  \n",
       "1         Unknown      Unknown  $133.16  \n",
       "2         Unknown      Unknown  $133.16  \n",
       "3    Rating (5/5)   16 Reviews   $21.26  \n",
       "4  Rating (4.5/5)   15 Reviews   $20.78  "
      ]
     },
     "execution_count": 62,
     "metadata": {
      "tags": []
     },
     "output_type": "execute_result"
    }
   ],
   "source": [
    "gin_df.columns = ['Gin', 'Vol_Strength', 'Rating', 'Review_count', 'Price']\n",
    "gin_df.head()"
   ]
  },
  {
   "cell_type": "code",
   "execution_count": null,
   "metadata": {
    "colab": {},
    "colab_type": "code",
    "id": "AAP6AY7cTXUR"
   },
   "outputs": [],
   "source": [
    "split = gin_df['Vol_Strength'].str.split(',', expand = True)"
   ]
  },
  {
   "cell_type": "code",
   "execution_count": null,
   "metadata": {
    "colab": {
     "base_uri": "https://localhost:8080/",
     "height": 824
    },
    "colab_type": "code",
    "executionInfo": {
     "elapsed": 457,
     "status": "ok",
     "timestamp": 1542838032266,
     "user": {
      "displayName": "William Canniford",
      "photoUrl": "",
      "userId": "08233812395679008502"
     },
     "user_tz": 0
    },
    "id": "oz1hOSnLT3Vl",
    "outputId": "9002d5b0-9a83-4654-f12f-f1e55f0478d9"
   },
   "outputs": [
    {
     "data": {
      "text/html": [
       "<div>\n",
       "<style scoped>\n",
       "    .dataframe tbody tr th:only-of-type {\n",
       "        vertical-align: middle;\n",
       "    }\n",
       "\n",
       "    .dataframe tbody tr th {\n",
       "        vertical-align: top;\n",
       "    }\n",
       "\n",
       "    .dataframe thead th {\n",
       "        text-align: right;\n",
       "    }\n",
       "</style>\n",
       "<table border=\"1\" class=\"dataframe\">\n",
       "  <thead>\n",
       "    <tr style=\"text-align: right;\">\n",
       "      <th></th>\n",
       "      <th>0</th>\n",
       "      <th>1</th>\n",
       "    </tr>\n",
       "  </thead>\n",
       "  <tbody>\n",
       "    <tr>\n",
       "      <th>0</th>\n",
       "      <td>72cl</td>\n",
       "      <td>45.4%</td>\n",
       "    </tr>\n",
       "    <tr>\n",
       "      <th>1</th>\n",
       "      <td>72cl</td>\n",
       "      <td>45%</td>\n",
       "    </tr>\n",
       "    <tr>\n",
       "      <th>2</th>\n",
       "      <td>72cl</td>\n",
       "      <td>43.3%</td>\n",
       "    </tr>\n",
       "    <tr>\n",
       "      <th>3</th>\n",
       "      <td>30cl</td>\n",
       "      <td>42%</td>\n",
       "    </tr>\n",
       "    <tr>\n",
       "      <th>4</th>\n",
       "      <td>70cl</td>\n",
       "      <td>40%</td>\n",
       "    </tr>\n",
       "    <tr>\n",
       "      <th>5</th>\n",
       "      <td>50cl</td>\n",
       "      <td>47%</td>\n",
       "    </tr>\n",
       "    <tr>\n",
       "      <th>6</th>\n",
       "      <td>72cl</td>\n",
       "      <td>43.3%</td>\n",
       "    </tr>\n",
       "    <tr>\n",
       "      <th>7</th>\n",
       "      <td>50cl</td>\n",
       "      <td>40%</td>\n",
       "    </tr>\n",
       "    <tr>\n",
       "      <th>8</th>\n",
       "      <td>70cl</td>\n",
       "      <td>40%</td>\n",
       "    </tr>\n",
       "    <tr>\n",
       "      <th>9</th>\n",
       "      <td>70cl</td>\n",
       "      <td>44%</td>\n",
       "    </tr>\n",
       "    <tr>\n",
       "      <th>10</th>\n",
       "      <td>70cl</td>\n",
       "      <td>43.3%</td>\n",
       "    </tr>\n",
       "    <tr>\n",
       "      <th>11</th>\n",
       "      <td>70cl</td>\n",
       "      <td>43%</td>\n",
       "    </tr>\n",
       "    <tr>\n",
       "      <th>12</th>\n",
       "      <td>70cl</td>\n",
       "      <td>41%</td>\n",
       "    </tr>\n",
       "    <tr>\n",
       "      <th>13</th>\n",
       "      <td>70cl</td>\n",
       "      <td>42%</td>\n",
       "    </tr>\n",
       "    <tr>\n",
       "      <th>14</th>\n",
       "      <td>70cl</td>\n",
       "      <td>41.3%</td>\n",
       "    </tr>\n",
       "    <tr>\n",
       "      <th>15</th>\n",
       "      <td>70cl</td>\n",
       "      <td>42%</td>\n",
       "    </tr>\n",
       "    <tr>\n",
       "      <th>16</th>\n",
       "      <td>70cl</td>\n",
       "      <td>43%</td>\n",
       "    </tr>\n",
       "    <tr>\n",
       "      <th>17</th>\n",
       "      <td>70cl</td>\n",
       "      <td>46%</td>\n",
       "    </tr>\n",
       "    <tr>\n",
       "      <th>18</th>\n",
       "      <td>70cl</td>\n",
       "      <td>41%</td>\n",
       "    </tr>\n",
       "    <tr>\n",
       "      <th>19</th>\n",
       "      <td>70cl</td>\n",
       "      <td>43%</td>\n",
       "    </tr>\n",
       "    <tr>\n",
       "      <th>20</th>\n",
       "      <td>70cl</td>\n",
       "      <td>40%</td>\n",
       "    </tr>\n",
       "    <tr>\n",
       "      <th>21</th>\n",
       "      <td>15cl</td>\n",
       "      <td>43.8%</td>\n",
       "    </tr>\n",
       "    <tr>\n",
       "      <th>22</th>\n",
       "      <td>50cl</td>\n",
       "      <td>40.1%</td>\n",
       "    </tr>\n",
       "    <tr>\n",
       "      <th>23</th>\n",
       "      <td>50cl</td>\n",
       "      <td>46%</td>\n",
       "    </tr>\n",
       "    <tr>\n",
       "      <th>24</th>\n",
       "      <td>70cl</td>\n",
       "      <td>44%</td>\n",
       "    </tr>\n",
       "  </tbody>\n",
       "</table>\n",
       "</div>"
      ],
      "text/plain": [
       "       0       1\n",
       "0   72cl   45.4%\n",
       "1   72cl     45%\n",
       "2   72cl   43.3%\n",
       "3   30cl     42%\n",
       "4   70cl     40%\n",
       "5   50cl     47%\n",
       "6   72cl   43.3%\n",
       "7   50cl     40%\n",
       "8   70cl     40%\n",
       "9   70cl     44%\n",
       "10  70cl   43.3%\n",
       "11  70cl     43%\n",
       "12  70cl     41%\n",
       "13  70cl     42%\n",
       "14  70cl   41.3%\n",
       "15  70cl     42%\n",
       "16  70cl     43%\n",
       "17  70cl     46%\n",
       "18  70cl     41%\n",
       "19  70cl     43%\n",
       "20  70cl     40%\n",
       "21  15cl   43.8%\n",
       "22  50cl   40.1%\n",
       "23  50cl     46%\n",
       "24  70cl     44%"
      ]
     },
     "execution_count": 19,
     "metadata": {
      "tags": []
     },
     "output_type": "execute_result"
    }
   ],
   "source": [
    "split"
   ]
  },
  {
   "cell_type": "code",
   "execution_count": null,
   "metadata": {
    "colab": {},
    "colab_type": "code",
    "id": "nlzcOZmZT6aS"
   },
   "outputs": [],
   "source": [
    "gin_df['Volume'] = split[0]\n",
    "gin_df['Strength'] = split[1]\n",
    "gin_df.drop(columns = ['Vol_Strength'], inplace=True)"
   ]
  },
  {
   "cell_type": "code",
   "execution_count": null,
   "metadata": {
    "colab": {
     "base_uri": "https://localhost:8080/",
     "height": 824
    },
    "colab_type": "code",
    "executionInfo": {
     "elapsed": 514,
     "status": "ok",
     "timestamp": 1542838146356,
     "user": {
      "displayName": "William Canniford",
      "photoUrl": "",
      "userId": "08233812395679008502"
     },
     "user_tz": 0
    },
    "id": "D9VwAujeT74B",
    "outputId": "265129e4-92dd-44a1-a3f4-4122b6baa97c"
   },
   "outputs": [
    {
     "data": {
      "text/html": [
       "<div>\n",
       "<style scoped>\n",
       "    .dataframe tbody tr th:only-of-type {\n",
       "        vertical-align: middle;\n",
       "    }\n",
       "\n",
       "    .dataframe tbody tr th {\n",
       "        vertical-align: top;\n",
       "    }\n",
       "\n",
       "    .dataframe thead th {\n",
       "        text-align: right;\n",
       "    }\n",
       "</style>\n",
       "<table border=\"1\" class=\"dataframe\">\n",
       "  <thead>\n",
       "    <tr style=\"text-align: right;\">\n",
       "      <th></th>\n",
       "      <th>Gin</th>\n",
       "      <th>Rating</th>\n",
       "      <th>Review_count</th>\n",
       "      <th>Price</th>\n",
       "      <th>Volume</th>\n",
       "      <th>Strength</th>\n",
       "    </tr>\n",
       "  </thead>\n",
       "  <tbody>\n",
       "    <tr>\n",
       "      <th>0</th>\n",
       "      <td>That Boutique-y Gin Company Advent Calendar (2...</td>\n",
       "      <td>Rating (4.5/5)</td>\n",
       "      <td>3 Reviews</td>\n",
       "      <td>$106.52</td>\n",
       "      <td>72cl</td>\n",
       "      <td>45.4%</td>\n",
       "    </tr>\n",
       "    <tr>\n",
       "      <th>1</th>\n",
       "      <td>Ginvent Calendar (2018 Edition)</td>\n",
       "      <td>Unknown</td>\n",
       "      <td>Unknown</td>\n",
       "      <td>$133.16</td>\n",
       "      <td>72cl</td>\n",
       "      <td>45%</td>\n",
       "    </tr>\n",
       "    <tr>\n",
       "      <th>2</th>\n",
       "      <td>Gin Advent Calendar - Themed (2018 Edition)</td>\n",
       "      <td>Unknown</td>\n",
       "      <td>Unknown</td>\n",
       "      <td>$133.16</td>\n",
       "      <td>72cl</td>\n",
       "      <td>43.3%</td>\n",
       "    </tr>\n",
       "    <tr>\n",
       "      <th>3</th>\n",
       "      <td>Pickering's Gin Christmas Baubles</td>\n",
       "      <td>Rating (5/5)</td>\n",
       "      <td>16 Reviews</td>\n",
       "      <td>$21.26</td>\n",
       "      <td>30cl</td>\n",
       "      <td>42%</td>\n",
       "    </tr>\n",
       "    <tr>\n",
       "      <th>4</th>\n",
       "      <td>Peaky Blinder Spiced Dry Gin</td>\n",
       "      <td>Rating (4.5/5)</td>\n",
       "      <td>15 Reviews</td>\n",
       "      <td>$20.78</td>\n",
       "      <td>70cl</td>\n",
       "      <td>40%</td>\n",
       "    </tr>\n",
       "    <tr>\n",
       "      <th>5</th>\n",
       "      <td>Monkey 47 Dry Gin</td>\n",
       "      <td>Rating (4.5/5)</td>\n",
       "      <td>116 Reviews</td>\n",
       "      <td>$35.96</td>\n",
       "      <td>50cl</td>\n",
       "      <td>47%</td>\n",
       "    </tr>\n",
       "    <tr>\n",
       "      <th>6</th>\n",
       "      <td>Gin Advent Calendar (2018 Edition)</td>\n",
       "      <td>Unknown</td>\n",
       "      <td>Unknown</td>\n",
       "      <td>$133.16</td>\n",
       "      <td>72cl</td>\n",
       "      <td>43.3%</td>\n",
       "    </tr>\n",
       "    <tr>\n",
       "      <th>7</th>\n",
       "      <td>Sharish Blue Magic Gin</td>\n",
       "      <td>Rating (4.5/5)</td>\n",
       "      <td>27 Reviews</td>\n",
       "      <td>$31.96</td>\n",
       "      <td>50cl</td>\n",
       "      <td>40%</td>\n",
       "    </tr>\n",
       "    <tr>\n",
       "      <th>8</th>\n",
       "      <td>Brockmans Intensely Smooth Gin</td>\n",
       "      <td>Rating (3.5/5)</td>\n",
       "      <td>64 Reviews</td>\n",
       "      <td>$29.74</td>\n",
       "      <td>70cl</td>\n",
       "      <td>40%</td>\n",
       "    </tr>\n",
       "    <tr>\n",
       "      <th>9</th>\n",
       "      <td>Salcombe Gin - Start Point</td>\n",
       "      <td>Rating (5/5)</td>\n",
       "      <td>9 Reviews</td>\n",
       "      <td>$35.96</td>\n",
       "      <td>70cl</td>\n",
       "      <td>44%</td>\n",
       "    </tr>\n",
       "    <tr>\n",
       "      <th>10</th>\n",
       "      <td>Bathtub Gin</td>\n",
       "      <td>Rating (4.5/5)</td>\n",
       "      <td>66 Reviews</td>\n",
       "      <td>$33.52</td>\n",
       "      <td>70cl</td>\n",
       "      <td>43.3%</td>\n",
       "    </tr>\n",
       "    <tr>\n",
       "      <th>11</th>\n",
       "      <td>Whitley Neill Blood Orange Gin</td>\n",
       "      <td>Rating (4.5/5)</td>\n",
       "      <td>11 Reviews</td>\n",
       "      <td>$22.38</td>\n",
       "      <td>70cl</td>\n",
       "      <td>43%</td>\n",
       "    </tr>\n",
       "    <tr>\n",
       "      <th>12</th>\n",
       "      <td>Malfy Gin Con Arancia</td>\n",
       "      <td>Rating (5/5)</td>\n",
       "      <td>2 Reviews</td>\n",
       "      <td>$28.12</td>\n",
       "      <td>70cl</td>\n",
       "      <td>41%</td>\n",
       "    </tr>\n",
       "    <tr>\n",
       "      <th>13</th>\n",
       "      <td>Dà Mhìle Seaweed Gin</td>\n",
       "      <td>Rating (4.5/5)</td>\n",
       "      <td>18 Reviews</td>\n",
       "      <td>$31.92</td>\n",
       "      <td>70cl</td>\n",
       "      <td>42%</td>\n",
       "    </tr>\n",
       "    <tr>\n",
       "      <th>14</th>\n",
       "      <td>Aber Falls Rhubarb &amp; Ginger Gin</td>\n",
       "      <td>Rating (4.5/5)</td>\n",
       "      <td>12 Reviews</td>\n",
       "      <td>$23.44</td>\n",
       "      <td>70cl</td>\n",
       "      <td>41.3%</td>\n",
       "    </tr>\n",
       "    <tr>\n",
       "      <th>15</th>\n",
       "      <td>Forest Gin</td>\n",
       "      <td>Rating (5/5)</td>\n",
       "      <td>18 Reviews</td>\n",
       "      <td>$56.43</td>\n",
       "      <td>70cl</td>\n",
       "      <td>42%</td>\n",
       "    </tr>\n",
       "    <tr>\n",
       "      <th>16</th>\n",
       "      <td>Whitley Neill Rhubarb &amp; Ginger Gin</td>\n",
       "      <td>Rating (3.5/5)</td>\n",
       "      <td>94 Reviews</td>\n",
       "      <td>$22.38</td>\n",
       "      <td>70cl</td>\n",
       "      <td>43%</td>\n",
       "    </tr>\n",
       "    <tr>\n",
       "      <th>17</th>\n",
       "      <td>Kew Organic Gin</td>\n",
       "      <td>Rating (5/5)</td>\n",
       "      <td>7 Reviews</td>\n",
       "      <td>$31.18</td>\n",
       "      <td>70cl</td>\n",
       "      <td>46%</td>\n",
       "    </tr>\n",
       "    <tr>\n",
       "      <th>18</th>\n",
       "      <td>Malfy Gin Con Rosa</td>\n",
       "      <td>Rating (5/5)</td>\n",
       "      <td>4 Reviews</td>\n",
       "      <td>$26.64</td>\n",
       "      <td>70cl</td>\n",
       "      <td>41%</td>\n",
       "    </tr>\n",
       "    <tr>\n",
       "      <th>19</th>\n",
       "      <td>Roku Gin</td>\n",
       "      <td>Rating (5/5)</td>\n",
       "      <td>15 Reviews</td>\n",
       "      <td>$26.64</td>\n",
       "      <td>70cl</td>\n",
       "      <td>43%</td>\n",
       "    </tr>\n",
       "    <tr>\n",
       "      <th>20</th>\n",
       "      <td>The Muff Liquor Company Irish Potato Craft Gin</td>\n",
       "      <td>Unknown</td>\n",
       "      <td>Unknown</td>\n",
       "      <td>$40.44</td>\n",
       "      <td>70cl</td>\n",
       "      <td>40%</td>\n",
       "    </tr>\n",
       "    <tr>\n",
       "      <th>21</th>\n",
       "      <td>World Gin Awards 2018 Overall Winners Tasting Set</td>\n",
       "      <td>Unknown</td>\n",
       "      <td>Unknown</td>\n",
       "      <td>$28.72</td>\n",
       "      <td>15cl</td>\n",
       "      <td>43.8%</td>\n",
       "    </tr>\n",
       "    <tr>\n",
       "      <th>22</th>\n",
       "      <td>Spit-Roasted Pineapple Gin (That Boutique-y Gi...</td>\n",
       "      <td>Rating (3.5/5)</td>\n",
       "      <td>27 Reviews</td>\n",
       "      <td>$31.92</td>\n",
       "      <td>50cl</td>\n",
       "      <td>40.1%</td>\n",
       "    </tr>\n",
       "    <tr>\n",
       "      <th>23</th>\n",
       "      <td>Yuletide Gin (That Boutique-y Gin Company)</td>\n",
       "      <td>Rating (5/5)</td>\n",
       "      <td>7 Reviews</td>\n",
       "      <td>$37.24</td>\n",
       "      <td>50cl</td>\n",
       "      <td>46%</td>\n",
       "    </tr>\n",
       "    <tr>\n",
       "      <th>24</th>\n",
       "      <td>The Wrecking Coast Cornish Clotted Cream Gin</td>\n",
       "      <td>Rating (4.5/5)</td>\n",
       "      <td>24 Reviews</td>\n",
       "      <td>$38.32</td>\n",
       "      <td>70cl</td>\n",
       "      <td>44%</td>\n",
       "    </tr>\n",
       "  </tbody>\n",
       "</table>\n",
       "</div>"
      ],
      "text/plain": [
       "                                                  Gin          Rating  \\\n",
       "0   That Boutique-y Gin Company Advent Calendar (2...  Rating (4.5/5)   \n",
       "1                     Ginvent Calendar (2018 Edition)         Unknown   \n",
       "2         Gin Advent Calendar - Themed (2018 Edition)         Unknown   \n",
       "3                   Pickering's Gin Christmas Baubles    Rating (5/5)   \n",
       "4                        Peaky Blinder Spiced Dry Gin  Rating (4.5/5)   \n",
       "5                                   Monkey 47 Dry Gin  Rating (4.5/5)   \n",
       "6                  Gin Advent Calendar (2018 Edition)         Unknown   \n",
       "7                              Sharish Blue Magic Gin  Rating (4.5/5)   \n",
       "8                      Brockmans Intensely Smooth Gin  Rating (3.5/5)   \n",
       "9                          Salcombe Gin - Start Point    Rating (5/5)   \n",
       "10                                        Bathtub Gin  Rating (4.5/5)   \n",
       "11                     Whitley Neill Blood Orange Gin  Rating (4.5/5)   \n",
       "12                              Malfy Gin Con Arancia    Rating (5/5)   \n",
       "13                               Dà Mhìle Seaweed Gin  Rating (4.5/5)   \n",
       "14                    Aber Falls Rhubarb & Ginger Gin  Rating (4.5/5)   \n",
       "15                                         Forest Gin    Rating (5/5)   \n",
       "16                 Whitley Neill Rhubarb & Ginger Gin  Rating (3.5/5)   \n",
       "17                                    Kew Organic Gin    Rating (5/5)   \n",
       "18                                 Malfy Gin Con Rosa    Rating (5/5)   \n",
       "19                                           Roku Gin    Rating (5/5)   \n",
       "20     The Muff Liquor Company Irish Potato Craft Gin         Unknown   \n",
       "21  World Gin Awards 2018 Overall Winners Tasting Set         Unknown   \n",
       "22  Spit-Roasted Pineapple Gin (That Boutique-y Gi...  Rating (3.5/5)   \n",
       "23         Yuletide Gin (That Boutique-y Gin Company)    Rating (5/5)   \n",
       "24       The Wrecking Coast Cornish Clotted Cream Gin  Rating (4.5/5)   \n",
       "\n",
       "   Review_count    Price Volume Strength  \n",
       "0     3 Reviews  $106.52   72cl    45.4%  \n",
       "1       Unknown  $133.16   72cl      45%  \n",
       "2       Unknown  $133.16   72cl    43.3%  \n",
       "3    16 Reviews   $21.26   30cl      42%  \n",
       "4    15 Reviews   $20.78   70cl      40%  \n",
       "5   116 Reviews   $35.96   50cl      47%  \n",
       "6       Unknown  $133.16   72cl    43.3%  \n",
       "7    27 Reviews   $31.96   50cl      40%  \n",
       "8    64 Reviews   $29.74   70cl      40%  \n",
       "9     9 Reviews   $35.96   70cl      44%  \n",
       "10   66 Reviews   $33.52   70cl    43.3%  \n",
       "11   11 Reviews   $22.38   70cl      43%  \n",
       "12    2 Reviews   $28.12   70cl      41%  \n",
       "13   18 Reviews   $31.92   70cl      42%  \n",
       "14   12 Reviews   $23.44   70cl    41.3%  \n",
       "15   18 Reviews   $56.43   70cl      42%  \n",
       "16   94 Reviews   $22.38   70cl      43%  \n",
       "17    7 Reviews   $31.18   70cl      46%  \n",
       "18    4 Reviews   $26.64   70cl      41%  \n",
       "19   15 Reviews   $26.64   70cl      43%  \n",
       "20      Unknown   $40.44   70cl      40%  \n",
       "21      Unknown   $28.72   15cl    43.8%  \n",
       "22   27 Reviews   $31.92   50cl    40.1%  \n",
       "23    7 Reviews   $37.24   50cl      46%  \n",
       "24   24 Reviews   $38.32   70cl      44%  "
      ]
     },
     "execution_count": 24,
     "metadata": {
      "tags": []
     },
     "output_type": "execute_result"
    }
   ],
   "source": [
    "gin_df"
   ]
  },
  {
   "cell_type": "code",
   "execution_count": null,
   "metadata": {
    "colab": {},
    "colab_type": "code",
    "id": "150c7uPEUXuL"
   },
   "outputs": [],
   "source": [
    "import re"
   ]
  },
  {
   "cell_type": "code",
   "execution_count": null,
   "metadata": {
    "colab": {
     "base_uri": "https://localhost:8080/",
     "height": 34
    },
    "colab_type": "code",
    "executionInfo": {
     "elapsed": 432,
     "status": "ok",
     "timestamp": 1542838563050,
     "user": {
      "displayName": "William Canniford",
      "photoUrl": "",
      "userId": "08233812395679008502"
     },
     "user_tz": 0
    },
    "id": "6P5AGohPUtbv",
    "outputId": "df54e796-eaf9-478a-9950-218471a1aec8"
   },
   "outputs": [
    {
     "data": {
      "text/plain": [
       "True"
      ]
     },
     "execution_count": 49,
     "metadata": {
      "tags": []
     },
     "output_type": "execute_result"
    }
   ],
   "source": [
    "def extract_rating(string):\n",
    "    if bool(re.search(r'\\((.*?)\\)', string)):\n",
    "        return re.search(r'\\((.*?)\\)', string).group(1)\n",
    "    else:\n",
    "        return np.nan\n",
    "\n",
    "bool(re.search(r'\\((.*?)\\)',gin_df['Rating'][0]))"
   ]
  },
  {
   "cell_type": "code",
   "execution_count": null,
   "metadata": {
    "colab": {},
    "colab_type": "code",
    "id": "qnkstGsvVLGT"
   },
   "outputs": [],
   "source": [
    "gin_df['Rating'] = gin_df['Rating'].apply(extract_rating)"
   ]
  },
  {
   "cell_type": "code",
   "execution_count": null,
   "metadata": {
    "colab": {
     "base_uri": "https://localhost:8080/",
     "height": 204
    },
    "colab_type": "code",
    "executionInfo": {
     "elapsed": 449,
     "status": "ok",
     "timestamp": 1542838586566,
     "user": {
      "displayName": "William Canniford",
      "photoUrl": "",
      "userId": "08233812395679008502"
     },
     "user_tz": 0
    },
    "id": "SrN_v8cSVtqq",
    "outputId": "e99a43ec-2b01-4125-d754-23c7651ca670"
   },
   "outputs": [
    {
     "data": {
      "text/html": [
       "<div>\n",
       "<style scoped>\n",
       "    .dataframe tbody tr th:only-of-type {\n",
       "        vertical-align: middle;\n",
       "    }\n",
       "\n",
       "    .dataframe tbody tr th {\n",
       "        vertical-align: top;\n",
       "    }\n",
       "\n",
       "    .dataframe thead th {\n",
       "        text-align: right;\n",
       "    }\n",
       "</style>\n",
       "<table border=\"1\" class=\"dataframe\">\n",
       "  <thead>\n",
       "    <tr style=\"text-align: right;\">\n",
       "      <th></th>\n",
       "      <th>Gin</th>\n",
       "      <th>Rating</th>\n",
       "      <th>Review_count</th>\n",
       "      <th>Price</th>\n",
       "      <th>Volume</th>\n",
       "      <th>Strength</th>\n",
       "    </tr>\n",
       "  </thead>\n",
       "  <tbody>\n",
       "    <tr>\n",
       "      <th>0</th>\n",
       "      <td>That Boutique-y Gin Company Advent Calendar (2...</td>\n",
       "      <td>4.5/5</td>\n",
       "      <td>3 Reviews</td>\n",
       "      <td>$106.52</td>\n",
       "      <td>72cl</td>\n",
       "      <td>45.4%</td>\n",
       "    </tr>\n",
       "    <tr>\n",
       "      <th>1</th>\n",
       "      <td>Ginvent Calendar (2018 Edition)</td>\n",
       "      <td>NaN</td>\n",
       "      <td>Unknown</td>\n",
       "      <td>$133.16</td>\n",
       "      <td>72cl</td>\n",
       "      <td>45%</td>\n",
       "    </tr>\n",
       "    <tr>\n",
       "      <th>2</th>\n",
       "      <td>Gin Advent Calendar - Themed (2018 Edition)</td>\n",
       "      <td>NaN</td>\n",
       "      <td>Unknown</td>\n",
       "      <td>$133.16</td>\n",
       "      <td>72cl</td>\n",
       "      <td>43.3%</td>\n",
       "    </tr>\n",
       "    <tr>\n",
       "      <th>3</th>\n",
       "      <td>Pickering's Gin Christmas Baubles</td>\n",
       "      <td>5/5</td>\n",
       "      <td>16 Reviews</td>\n",
       "      <td>$21.26</td>\n",
       "      <td>30cl</td>\n",
       "      <td>42%</td>\n",
       "    </tr>\n",
       "    <tr>\n",
       "      <th>4</th>\n",
       "      <td>Peaky Blinder Spiced Dry Gin</td>\n",
       "      <td>4.5/5</td>\n",
       "      <td>15 Reviews</td>\n",
       "      <td>$20.78</td>\n",
       "      <td>70cl</td>\n",
       "      <td>40%</td>\n",
       "    </tr>\n",
       "  </tbody>\n",
       "</table>\n",
       "</div>"
      ],
      "text/plain": [
       "                                                 Gin Rating Review_count  \\\n",
       "0  That Boutique-y Gin Company Advent Calendar (2...  4.5/5    3 Reviews   \n",
       "1                    Ginvent Calendar (2018 Edition)    NaN      Unknown   \n",
       "2        Gin Advent Calendar - Themed (2018 Edition)    NaN      Unknown   \n",
       "3                  Pickering's Gin Christmas Baubles    5/5   16 Reviews   \n",
       "4                       Peaky Blinder Spiced Dry Gin  4.5/5   15 Reviews   \n",
       "\n",
       "     Price Volume Strength  \n",
       "0  $106.52   72cl    45.4%  \n",
       "1  $133.16   72cl      45%  \n",
       "2  $133.16   72cl    43.3%  \n",
       "3   $21.26   30cl      42%  \n",
       "4   $20.78   70cl      40%  "
      ]
     },
     "execution_count": 52,
     "metadata": {
      "tags": []
     },
     "output_type": "execute_result"
    }
   ],
   "source": [
    "gin_df.head()"
   ]
  },
  {
   "cell_type": "code",
   "execution_count": null,
   "metadata": {
    "colab": {},
    "colab_type": "code",
    "id": "_A-_tkw-WHsR"
   },
   "outputs": [],
   "source": [
    "gin_df['Price'] = gin_df['Price'].str.replace('$', '£')"
   ]
  },
  {
   "cell_type": "code",
   "execution_count": null,
   "metadata": {
    "colab": {},
    "colab_type": "code",
    "id": "-w15eKZ0WOdz"
   },
   "outputs": [],
   "source": [
    "def extract_review_count(string):\n",
    "    if string.find('Reviews') != -1:\n",
    "        return string.replace('Reviews', '')\n",
    "    else:\n",
    "        return np.nan"
   ]
  },
  {
   "cell_type": "code",
   "execution_count": null,
   "metadata": {
    "colab": {},
    "colab_type": "code",
    "id": "NsSNooGJWg-d"
   },
   "outputs": [],
   "source": [
    "gin_df['Review_count'] = gin_df['Review_count'].apply(extract_review_count)"
   ]
  },
  {
   "cell_type": "markdown",
   "metadata": {},
   "source": [
    "We can now have a look at the first few rows of the table to see that we have a much clearer data structure that is going to be much easier to work with for further analysis. "
   ]
  },
  {
   "cell_type": "code",
   "execution_count": null,
   "metadata": {
    "colab": {
     "base_uri": "https://localhost:8080/",
     "height": 204
    },
    "colab_type": "code",
    "executionInfo": {
     "elapsed": 398,
     "status": "ok",
     "timestamp": 1542838708277,
     "user": {
      "displayName": "William Canniford",
      "photoUrl": "",
      "userId": "08233812395679008502"
     },
     "user_tz": 0
    },
    "id": "vD7Pl6KcWk3V",
    "outputId": "119c1002-6503-48b5-e875-b861ca8792f2"
   },
   "outputs": [
    {
     "data": {
      "text/html": [
       "<div>\n",
       "<style scoped>\n",
       "    .dataframe tbody tr th:only-of-type {\n",
       "        vertical-align: middle;\n",
       "    }\n",
       "\n",
       "    .dataframe tbody tr th {\n",
       "        vertical-align: top;\n",
       "    }\n",
       "\n",
       "    .dataframe thead th {\n",
       "        text-align: right;\n",
       "    }\n",
       "</style>\n",
       "<table border=\"1\" class=\"dataframe\">\n",
       "  <thead>\n",
       "    <tr style=\"text-align: right;\">\n",
       "      <th></th>\n",
       "      <th>Gin</th>\n",
       "      <th>Rating</th>\n",
       "      <th>Review_count</th>\n",
       "      <th>Price</th>\n",
       "      <th>Volume</th>\n",
       "      <th>Strength</th>\n",
       "    </tr>\n",
       "  </thead>\n",
       "  <tbody>\n",
       "    <tr>\n",
       "      <th>0</th>\n",
       "      <td>That Boutique-y Gin Company Advent Calendar (2...</td>\n",
       "      <td>4.5/5</td>\n",
       "      <td>3</td>\n",
       "      <td>£106.52</td>\n",
       "      <td>72cl</td>\n",
       "      <td>45.4%</td>\n",
       "    </tr>\n",
       "    <tr>\n",
       "      <th>1</th>\n",
       "      <td>Ginvent Calendar (2018 Edition)</td>\n",
       "      <td>NaN</td>\n",
       "      <td>NaN</td>\n",
       "      <td>£133.16</td>\n",
       "      <td>72cl</td>\n",
       "      <td>45%</td>\n",
       "    </tr>\n",
       "    <tr>\n",
       "      <th>2</th>\n",
       "      <td>Gin Advent Calendar - Themed (2018 Edition)</td>\n",
       "      <td>NaN</td>\n",
       "      <td>NaN</td>\n",
       "      <td>£133.16</td>\n",
       "      <td>72cl</td>\n",
       "      <td>43.3%</td>\n",
       "    </tr>\n",
       "    <tr>\n",
       "      <th>3</th>\n",
       "      <td>Pickering's Gin Christmas Baubles</td>\n",
       "      <td>5/5</td>\n",
       "      <td>16</td>\n",
       "      <td>£21.26</td>\n",
       "      <td>30cl</td>\n",
       "      <td>42%</td>\n",
       "    </tr>\n",
       "    <tr>\n",
       "      <th>4</th>\n",
       "      <td>Peaky Blinder Spiced Dry Gin</td>\n",
       "      <td>4.5/5</td>\n",
       "      <td>15</td>\n",
       "      <td>£20.78</td>\n",
       "      <td>70cl</td>\n",
       "      <td>40%</td>\n",
       "    </tr>\n",
       "  </tbody>\n",
       "</table>\n",
       "</div>"
      ],
      "text/plain": [
       "                                                 Gin Rating Review_count  \\\n",
       "0  That Boutique-y Gin Company Advent Calendar (2...  4.5/5           3    \n",
       "1                    Ginvent Calendar (2018 Edition)    NaN          NaN   \n",
       "2        Gin Advent Calendar - Themed (2018 Edition)    NaN          NaN   \n",
       "3                  Pickering's Gin Christmas Baubles    5/5          16    \n",
       "4                       Peaky Blinder Spiced Dry Gin  4.5/5          15    \n",
       "\n",
       "     Price Volume Strength  \n",
       "0  £106.52   72cl    45.4%  \n",
       "1  £133.16   72cl      45%  \n",
       "2  £133.16   72cl    43.3%  \n",
       "3   £21.26   30cl      42%  \n",
       "4   £20.78   70cl      40%  "
      ]
     },
     "execution_count": 57,
     "metadata": {
      "tags": []
     },
     "output_type": "execute_result"
    }
   ],
   "source": [
    "gin_df.head()"
   ]
  }
 ],
 "metadata": {
  "colab": {
   "collapsed_sections": [],
   "name": "web_scraping_guide.ipynb",
   "provenance": [],
   "version": "0.3.2"
  },
  "kernelspec": {
   "display_name": "Python 3",
   "language": "python",
   "name": "python3"
  },
  "language_info": {
   "codemirror_mode": {
    "name": "ipython",
    "version": 3
   },
   "file_extension": ".py",
   "mimetype": "text/x-python",
   "name": "python",
   "nbconvert_exporter": "python",
   "pygments_lexer": "ipython3",
   "version": "3.7.0"
  }
 },
 "nbformat": 4,
 "nbformat_minor": 2
}
