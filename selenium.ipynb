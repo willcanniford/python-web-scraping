{
 "cells": [
  {
   "cell_type": "code",
   "execution_count": 4,
   "metadata": {},
   "outputs": [],
   "source": [
    "from selenium import webdriver\n",
    "from selenium.webdriver.common.keys import Keys\n",
    "from bs4 import BeautifulSoup"
   ]
  },
  {
   "cell_type": "markdown",
   "metadata": {},
   "source": [
    "## A need for `selenium` \n",
    "While trying to scrape a website that is built on Node.js, or similar, I struggled to be able to pull the information.  I could see the table on the page and the inspect tool using the browser, but wasn't able to translate that using just `BeautifulSoup`; it was just returning the javascript code that was being used to serve the content to the page. Enter `selenium`.  \n",
    "\n",
    "`Selenium` is able to automate the browser process, and thus remove the annoyance of the javascript backend of the site not serving the content for us to read into python. "
   ]
  },
  {
   "cell_type": "code",
   "execution_count": 34,
   "metadata": {},
   "outputs": [],
   "source": [
    "url = \"https://ighthamcc.play-cricket.com/website/web_pages/139877\"\n",
    "\n",
    "# create a new Firefox session\n",
    "driver = webdriver.Firefox()\n",
    "driver.implicitly_wait(2)\n",
    "driver.get(url)\n",
    "\n",
    "# Pass the information to Beautiful Soup \n",
    "soup = BeautifulSoup(driver.page_source, 'lxml')\n",
    "\n",
    "#end the Selenium browser session\n",
    "driver.quit()"
   ]
  },
  {
   "cell_type": "markdown",
   "metadata": {},
   "source": [
    "Note that you might experience the error:\n",
    "\n",
    "```\n",
    "WebDriverException: Message: 'geckodriver' executable needs to be in PATH.\n",
    "```\n",
    "This can be solved through installing the geckodriver library, which can be done as follows on mac if you have brew installed. \n",
    "\n",
    "```\n",
    "brew install geckodriver\n",
    "```"
   ]
  },
  {
   "cell_type": "markdown",
   "metadata": {},
   "source": [
    "Now that we have run the browser and grabbed the rendered html we can continue using `BeautifulSoup` as we would normally. "
   ]
  },
  {
   "cell_type": "code",
   "execution_count": 35,
   "metadata": {},
   "outputs": [],
   "source": [
    "tables = soup.find_all('table')"
   ]
  },
  {
   "cell_type": "code",
   "execution_count": 36,
   "metadata": {},
   "outputs": [
    {
     "data": {
      "text/plain": [
       "1"
      ]
     },
     "execution_count": 36,
     "metadata": {},
     "output_type": "execute_result"
    }
   ],
   "source": [
    "len(tables)"
   ]
  },
  {
   "cell_type": "code",
   "execution_count": 37,
   "metadata": {},
   "outputs": [],
   "source": [
    "summary_table = tables[0]\n",
    "headers = [i.text.lower().replace(' ', '_') for i in summary_table.find('thead').find_all('th')]"
   ]
  },
  {
   "cell_type": "code",
   "execution_count": 38,
   "metadata": {},
   "outputs": [
    {
     "data": {
      "text/plain": [
       "['rank',\n",
       " 'player',\n",
       " 'overs',\n",
       " 'maidens',\n",
       " 'runs',\n",
       " 'wickets',\n",
       " 'best_bowling',\n",
       " '5_wicket_haul',\n",
       " 'economy_rate',\n",
       " 'strike_rate',\n",
       " 'average',\n",
       " 'percentage_team_wicket']"
      ]
     },
     "execution_count": 38,
     "metadata": {},
     "output_type": "execute_result"
    }
   ],
   "source": [
    "headers"
   ]
  }
 ],
 "metadata": {
  "kernelspec": {
   "display_name": "Python 3",
   "language": "python",
   "name": "python3"
  },
  "language_info": {
   "codemirror_mode": {
    "name": "ipython",
    "version": 3
   },
   "file_extension": ".py",
   "mimetype": "text/x-python",
   "name": "python",
   "nbconvert_exporter": "python",
   "pygments_lexer": "ipython3",
   "version": "3.6.8"
  }
 },
 "nbformat": 4,
 "nbformat_minor": 2
}
