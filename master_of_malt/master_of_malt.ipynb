{
 "cells": [
  {
   "cell_type": "code",
   "execution_count": 12,
   "metadata": {},
   "outputs": [],
   "source": [
    "# Imports\n",
    "import requests\n",
    "import pandas as pd\n",
    "from bs4 import BeautifulSoup\n",
    "import numpy as np\n",
    "import random\n",
    "import time"
   ]
  },
  {
   "cell_type": "markdown",
   "metadata": {},
   "source": [
    "## Managing visited pages\n",
    "We are going to have to track which of the paginated index pages we have been to that all start with the overall 'gin' index page defined below.  \n",
    "\n",
    "To find all available links that are found in the pagination section of the HTML, we can use the following code. "
   ]
  },
  {
   "cell_type": "code",
   "execution_count": 2,
   "metadata": {},
   "outputs": [
    {
     "data": {
      "text/plain": [
       "['https://www.masterofmalt.com/gin/',\n",
       " 'https://www.masterofmalt.com/gin/2',\n",
       " 'https://www.masterofmalt.com/gin/3',\n",
       " 'https://www.masterofmalt.com/gin/4',\n",
       " 'https://www.masterofmalt.com/gin/5',\n",
       " 'https://www.masterofmalt.com/gin/6']"
      ]
     },
     "execution_count": 2,
     "metadata": {},
     "output_type": "execute_result"
    }
   ],
   "source": [
    "url = \"https://www.masterofmalt.com/gin/\"\n",
    "cookies = dict(MaOMa='VisitorID=556630649&IsVATableCountry=1&CountryID=464&CurrencyID=-1&CountryCodeShort=GB&DeliveryCountrySavedToDB=1')\n",
    "html = requests.get(url, headers = {\"Accept-Language\": \"en-GB\"}, cookies = cookies).text \n",
    "soup = BeautifulSoup(html, features=\"html.parser\")\n",
    "pagination = soup.find_all(class_='list-paging')\n",
    "pagination_links = pagination[0].find_all('a')\n",
    "[link.get('href') for link in pagination_links]"
   ]
  },
  {
   "cell_type": "markdown",
   "metadata": {},
   "source": [
    "This is going to be something that we are going to do a lot of times; makes sense to create a function that does what we need it to and stops at an appropriate time. "
   ]
  },
  {
   "cell_type": "code",
   "execution_count": 3,
   "metadata": {},
   "outputs": [],
   "source": [
    "def get_pagination_links(url, html_class = 'list-paging'):\n",
    "    \"\"\"\n",
    "    For a given url find the href attributes of anchor tags that match a certain HTML class.\n",
    "    Returns a set of URLs.\n",
    "    \"\"\"\n",
    "    cookies = dict(MaOMa='VisitorID=556630649&IsVATableCountry=1&CountryID=464&CurrencyID=-1&CountryCodeShort=GB&DeliveryCountrySavedToDB=1')\n",
    "    html = requests.get(url, headers = {\"Accept-Language\": \"en-GB\"}, cookies = cookies).text \n",
    "    soup = BeautifulSoup(html, features=\"html.parser\")\n",
    "    pagination = soup.find_all(class_= html_class)\n",
    "    pagination_links = pagination[0].find_all('a')\n",
    "    \n",
    "    # Return a set of distinct URLs \n",
    "    return set([link.get('href') for link in pagination_links])"
   ]
  },
  {
   "cell_type": "code",
   "execution_count": 4,
   "metadata": {},
   "outputs": [
    {
     "data": {
      "text/plain": [
       "{'https://www.masterofmalt.com/gin/',\n",
       " 'https://www.masterofmalt.com/gin/2',\n",
       " 'https://www.masterofmalt.com/gin/3',\n",
       " 'https://www.masterofmalt.com/gin/4',\n",
       " 'https://www.masterofmalt.com/gin/5',\n",
       " 'https://www.masterofmalt.com/gin/6'}"
      ]
     },
     "execution_count": 4,
     "metadata": {},
     "output_type": "execute_result"
    }
   ],
   "source": [
    "get_pagination_links(\"https://www.masterofmalt.com/gin/\")"
   ]
  },
  {
   "cell_type": "markdown",
   "metadata": {},
   "source": [
    "----"
   ]
  },
  {
   "cell_type": "code",
   "execution_count": 5,
   "metadata": {},
   "outputs": [],
   "source": [
    "starting_url = \"https://www.masterofmalt.com/gin/\"\n",
    "\n",
    "# Create master array of pages that we want to visit\n",
    "all_gin_pages = np.array([starting_url])\n",
    "visited_pages = np.array([])\n",
    "\n",
    "# Check for pages that haven't been visited\n",
    "while len(np.setdiff1d(all_gin_pages, visited_pages)):\n",
    "    \n",
    "    # Grab a random choice of unvisited pages\n",
    "    unvisited_url = random.choice(np.setdiff1d(all_gin_pages, visited_pages))\n",
    "    \n",
    "    # Call our function to get pagination links\n",
    "    pages = get_pagination_links(unvisited_url)\n",
    "    \n",
    "    # Add the visited url to the visited pages\n",
    "    visited_pages.append(unvisited_url)\n",
    "    \n",
    "    # Update all the gin pages\n",
    "    all_gin_pages = np.array(set(all_gin_pages).union(pages))\n",
    "    \n",
    "    # Add wait flag to avoid smashing the server\n",
    "    time.sleep(3)\n",
    "    \n",
    "    break"
   ]
  },
  {
   "cell_type": "code",
   "execution_count": 8,
   "metadata": {},
   "outputs": [
    {
     "data": {
      "text/plain": [
       "array({'https://www.masterofmalt.com/gin/5', 'https://www.masterofmalt.com/gin/3', 'https://www.masterofmalt.com/gin/2', 'https://www.masterofmalt.com/gin/4', 'https://www.masterofmalt.com/gin/', 'https://www.masterofmalt.com/gin/6'},\n",
       "      dtype=object)"
      ]
     },
     "execution_count": 8,
     "metadata": {},
     "output_type": "execute_result"
    }
   ],
   "source": [
    "all_gin_pages"
   ]
  },
  {
   "cell_type": "markdown",
   "metadata": {},
   "source": [
    "#### Overview of using sets\n",
    "I thought that sets were the ideal data type for this particular instance. "
   ]
  },
  {
   "cell_type": "code",
   "execution_count": 10,
   "metadata": {},
   "outputs": [
    {
     "data": {
      "text/plain": [
       "3"
      ]
     },
     "execution_count": 10,
     "metadata": {},
     "output_type": "execute_result"
    }
   ],
   "source": [
    "len(np.setdiff1d([1,2,3,4,5], [1,2]))"
   ]
  },
  {
   "cell_type": "code",
   "execution_count": 50,
   "metadata": {},
   "outputs": [
    {
     "data": {
      "text/plain": [
       "{'url', 'url2'}"
      ]
     },
     "execution_count": 50,
     "metadata": {},
     "output_type": "execute_result"
    }
   ],
   "source": [
    "set(['url']).union(set(['url', 'url2']))"
   ]
  }
 ],
 "metadata": {
  "kernelspec": {
   "display_name": "Python 3",
   "language": "python",
   "name": "python3"
  },
  "language_info": {
   "codemirror_mode": {
    "name": "ipython",
    "version": 3
   },
   "file_extension": ".py",
   "mimetype": "text/x-python",
   "name": "python",
   "nbconvert_exporter": "python",
   "pygments_lexer": "ipython3",
   "version": "3.6.8"
  }
 },
 "nbformat": 4,
 "nbformat_minor": 2
}
