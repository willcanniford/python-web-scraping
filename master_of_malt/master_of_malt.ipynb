{
 "cells": [
  {
   "cell_type": "markdown",
   "metadata": {},
   "source": [
    "# Master of Malt \n",
    "Master of Malt, in their own words, is an online retailer of single malt whisky, blended whisky, bourbon, rum, brandy, vodka, gin and many other fine spirits!\n",
    "\n",
    "I was interested in collecting some information about different gins that they had to offer after making an order, and thought that I would write a web scraper to automate the process for me. "
   ]
  },
  {
   "cell_type": "code",
   "execution_count": 2,
   "metadata": {},
   "outputs": [],
   "source": [
    "# Imports\n",
    "import requests\n",
    "import pandas as pd\n",
    "from bs4 import BeautifulSoup\n",
    "import numpy as np\n",
    "import random\n",
    "import time"
   ]
  },
  {
   "cell_type": "markdown",
   "metadata": {},
   "source": [
    "## Managing visited pages\n",
    "We are going to have to track which of the paginated index pages we have been to that all start with the overall 'gin' index page defined below.  \n",
    "\n",
    "To find all available links that are found in the pagination section of the HTML, we can use the following code.  \n",
    "\n",
    "I was having issues with the default country code and currency when I was running the script, so had to provide some added details using `cookies` to force the website to render in the correct format. "
   ]
  },
  {
   "cell_type": "code",
   "execution_count": 3,
   "metadata": {},
   "outputs": [
    {
     "data": {
      "text/plain": [
       "['https://www.masterofmalt.com/gin/',\n",
       " 'https://www.masterofmalt.com/gin/2',\n",
       " 'https://www.masterofmalt.com/gin/3',\n",
       " 'https://www.masterofmalt.com/gin/4',\n",
       " 'https://www.masterofmalt.com/gin/5',\n",
       " 'https://www.masterofmalt.com/gin/6']"
      ]
     },
     "execution_count": 3,
     "metadata": {},
     "output_type": "execute_result"
    }
   ],
   "source": [
    "url = \"https://www.masterofmalt.com/gin/\"\n",
    "cookies = dict(MaOMa='VisitorID=556630649&IsVATableCountry=1&CountryID=464&CurrencyID=-1&CountryCodeShort=GB&DeliveryCountrySavedToDB=1')\n",
    "html = requests.get(url, headers = {\"Accept-Language\": \"en-GB\"}, cookies = cookies).text \n",
    "soup = BeautifulSoup(html, features=\"html.parser\")\n",
    "pagination = soup.find_all(class_='list-paging')\n",
    "pagination_links = pagination[0].find_all('a')\n",
    "[link.get('href') for link in pagination_links]"
   ]
  },
  {
   "cell_type": "markdown",
   "metadata": {},
   "source": [
    "This is going to be something that we are going to do a lot of times; makes sense to create a function that does what we need it to and stops at an appropriate time. "
   ]
  },
  {
   "cell_type": "code",
   "execution_count": 41,
   "metadata": {},
   "outputs": [],
   "source": [
    "def get_pagination_links(url, html_class = 'list-paging'):\n",
    "    \"\"\"\n",
    "    For a given url find the href attributes of anchor tags that match a certain HTML class.\n",
    "    Returns a set of URLs.\n",
    "    \"\"\"\n",
    "    cookies = dict(MaOMa='VisitorID=556630649&IsVATableCountry=1&CountryID=464&CurrencyID=-1&CountryCodeShort=GB&DeliveryCountrySavedToDB=1')\n",
    "    html = requests.get(url, headers = {\"Accept-Language\": \"en-GB\"}, cookies = cookies).text \n",
    "    soup = BeautifulSoup(html, features=\"html.parser\")\n",
    "    pagination = soup.find_all(class_= html_class)\n",
    "    pagination_links = pagination[0].find_all('a')\n",
    "    \n",
    "    # Return a set of distinct URLs \n",
    "    return [link.get('href') for link in pagination_links]"
   ]
  },
  {
   "cell_type": "code",
   "execution_count": 42,
   "metadata": {},
   "outputs": [
    {
     "data": {
      "text/plain": [
       "['https://www.masterofmalt.com/gin/',\n",
       " 'https://www.masterofmalt.com/gin/2',\n",
       " 'https://www.masterofmalt.com/gin/3',\n",
       " 'https://www.masterofmalt.com/gin/4',\n",
       " 'https://www.masterofmalt.com/gin/5',\n",
       " 'https://www.masterofmalt.com/gin/6']"
      ]
     },
     "execution_count": 42,
     "metadata": {},
     "output_type": "execute_result"
    }
   ],
   "source": [
    "get_pagination_links(\"https://www.masterofmalt.com/gin/\")"
   ]
  },
  {
   "cell_type": "markdown",
   "metadata": {},
   "source": [
    "----"
   ]
  },
  {
   "cell_type": "code",
   "execution_count": 78,
   "metadata": {},
   "outputs": [
    {
     "name": "stdout",
     "output_type": "stream",
     "text": [
      "1/6 pages visited: 16.67%\n",
      "2/6 pages visited: 33.33%\n",
      "3/6 pages visited: 50.0%\n",
      "4/6 pages visited: 66.67%\n",
      "5/6 pages visited: 83.33%\n",
      "6/11 pages visited: 54.55%\n",
      "7/11 pages visited: 63.64%\n",
      "8/16 pages visited: 50.0%\n",
      "9/16 pages visited: 56.25%\n",
      "10/16 pages visited: 62.5%\n",
      "11/16 pages visited: 68.75%\n",
      "12/16 pages visited: 75.0%\n",
      "13/21 pages visited: 61.9%\n",
      "14/21 pages visited: 66.67%\n",
      "15/21 pages visited: 71.43%\n",
      "16/21 pages visited: 76.19%\n",
      "17/21 pages visited: 80.95%\n",
      "18/26 pages visited: 69.23%\n",
      "19/26 pages visited: 73.08%\n",
      "20/26 pages visited: 76.92%\n",
      "21/26 pages visited: 80.77%\n",
      "22/26 pages visited: 84.62%\n",
      "23/31 pages visited: 74.19%\n",
      "24/31 pages visited: 77.42%\n",
      "25/31 pages visited: 80.65%\n",
      "26/31 pages visited: 83.87%\n",
      "27/31 pages visited: 87.1%\n",
      "28/36 pages visited: 77.78%\n",
      "29/36 pages visited: 80.56%\n",
      "30/36 pages visited: 83.33%\n",
      "31/36 pages visited: 86.11%\n",
      "32/36 pages visited: 88.89%\n",
      "33/41 pages visited: 80.49%\n",
      "34/41 pages visited: 82.93%\n",
      "35/41 pages visited: 85.37%\n",
      "36/41 pages visited: 87.8%\n",
      "37/41 pages visited: 90.24%\n",
      "38/46 pages visited: 82.61%\n",
      "39/46 pages visited: 84.78%\n",
      "40/46 pages visited: 86.96%\n",
      "41/46 pages visited: 89.13%\n",
      "42/46 pages visited: 91.3%\n",
      "43/51 pages visited: 84.31%\n",
      "44/51 pages visited: 86.27%\n",
      "45/51 pages visited: 88.24%\n",
      "46/51 pages visited: 90.2%\n",
      "47/51 pages visited: 92.16%\n",
      "48/56 pages visited: 85.71%\n",
      "49/56 pages visited: 87.5%\n",
      "50/56 pages visited: 89.29%\n",
      "51/56 pages visited: 91.07%\n",
      "52/56 pages visited: 92.86%\n",
      "53/61 pages visited: 86.89%\n",
      "54/61 pages visited: 88.52%\n",
      "55/61 pages visited: 90.16%\n",
      "56/61 pages visited: 91.8%\n",
      "57/61 pages visited: 93.44%\n",
      "58/66 pages visited: 87.88%\n",
      "59/66 pages visited: 89.39%\n",
      "60/66 pages visited: 90.91%\n",
      "61/66 pages visited: 92.42%\n",
      "62/66 pages visited: 93.94%\n",
      "63/71 pages visited: 88.73%\n",
      "64/71 pages visited: 90.14%\n",
      "65/71 pages visited: 91.55%\n",
      "66/71 pages visited: 92.96%\n",
      "67/71 pages visited: 94.37%\n",
      "68/71 pages visited: 95.77%\n",
      "69/76 pages visited: 90.79%\n",
      "70/76 pages visited: 92.11%\n",
      "71/76 pages visited: 93.42%\n",
      "72/76 pages visited: 94.74%\n",
      "73/76 pages visited: 96.05%\n",
      "74/81 pages visited: 91.36%\n",
      "75/81 pages visited: 92.59%\n",
      "76/81 pages visited: 93.83%\n",
      "77/81 pages visited: 95.06%\n",
      "78/81 pages visited: 96.3%\n",
      "79/81 pages visited: 97.53%\n",
      "80/86 pages visited: 93.02%\n",
      "81/86 pages visited: 94.19%\n",
      "82/86 pages visited: 95.35%\n",
      "83/86 pages visited: 96.51%\n",
      "84/86 pages visited: 97.67%\n",
      "85/91 pages visited: 93.41%\n",
      "86/91 pages visited: 94.51%\n",
      "87/91 pages visited: 95.6%\n",
      "88/91 pages visited: 96.7%\n",
      "89/91 pages visited: 97.8%\n",
      "90/91 pages visited: 98.9%\n",
      "91/96 pages visited: 94.79%\n",
      "92/96 pages visited: 95.83%\n",
      "93/96 pages visited: 96.88%\n",
      "94/96 pages visited: 97.92%\n",
      "95/96 pages visited: 98.96%\n",
      "96/101 pages visited: 95.05%\n",
      "97/101 pages visited: 96.04%\n",
      "98/106 pages visited: 92.45%\n",
      "99/106 pages visited: 93.4%\n",
      "100/106 pages visited: 94.34%\n",
      "101/106 pages visited: 95.28%\n",
      "102/106 pages visited: 96.23%\n",
      "103/111 pages visited: 92.79%\n",
      "104/111 pages visited: 93.69%\n",
      "105/111 pages visited: 94.59%\n",
      "106/111 pages visited: 95.5%\n",
      "107/111 pages visited: 96.4%\n",
      "108/116 pages visited: 93.1%\n",
      "109/116 pages visited: 93.97%\n",
      "110/116 pages visited: 94.83%\n",
      "111/116 pages visited: 95.69%\n",
      "112/116 pages visited: 96.55%\n",
      "113/118 pages visited: 95.76%\n",
      "114/118 pages visited: 96.61%\n",
      "115/118 pages visited: 97.46%\n",
      "116/118 pages visited: 98.31%\n",
      "117/118 pages visited: 99.15%\n",
      "118/118 pages visited: 100.0%\n"
     ]
    }
   ],
   "source": [
    "starting_url = \"https://www.masterofmalt.com/gin/\"\n",
    "\n",
    "# Create master array of pages that we want to visit\n",
    "all_gin_pages = [starting_url]\n",
    "visited_pages = []\n",
    "unvisited_pages = np.setdiff1d(all_gin_pages, visited_pages)\n",
    "\n",
    "while len(unvisited_pages):\n",
    "    new_page = unvisited_pages[0]\n",
    "    pages = get_pagination_links(new_page)\n",
    "    all_gin_pages = list(set(all_gin_pages).union(set(pages)))\n",
    "    visited_pages.append(new_page)\n",
    "    unvisited_pages = np.setdiff1d(all_gin_pages, visited_pages)\n",
    "    vp_count = len(visited_pages)\n",
    "    up_count = len(all_gin_pages)\n",
    "    v_perc = round(vp_count / up_count * 100.0, 2)\n",
    "    print('%s/%s pages visited: %s%%' % (vp_count, up_count, v_perc))"
   ]
  },
  {
   "cell_type": "code",
   "execution_count": 80,
   "metadata": {},
   "outputs": [
    {
     "data": {
      "text/plain": [
       "['https://www.masterofmalt.com/gin/68',\n",
       " 'https://www.masterofmalt.com/gin/92',\n",
       " 'https://www.masterofmalt.com/gin/88',\n",
       " 'https://www.masterofmalt.com/gin/112',\n",
       " 'https://www.masterofmalt.com/gin/9',\n",
       " 'https://www.masterofmalt.com/gin/16',\n",
       " 'https://www.masterofmalt.com/gin/111',\n",
       " 'https://www.masterofmalt.com/gin/118',\n",
       " 'https://www.masterofmalt.com/gin/30',\n",
       " 'https://www.masterofmalt.com/gin/41',\n",
       " 'https://www.masterofmalt.com/gin/23',\n",
       " 'https://www.masterofmalt.com/gin/74',\n",
       " 'https://www.masterofmalt.com/gin/99',\n",
       " 'https://www.masterofmalt.com/gin/12',\n",
       " 'https://www.masterofmalt.com/gin/13',\n",
       " 'https://www.masterofmalt.com/gin/56',\n",
       " 'https://www.masterofmalt.com/gin/36',\n",
       " 'https://www.masterofmalt.com/gin/39',\n",
       " 'https://www.masterofmalt.com/gin/116',\n",
       " 'https://www.masterofmalt.com/gin/45',\n",
       " 'https://www.masterofmalt.com/gin/113',\n",
       " 'https://www.masterofmalt.com/gin/29',\n",
       " 'https://www.masterofmalt.com/gin/84',\n",
       " 'https://www.masterofmalt.com/gin/22',\n",
       " 'https://www.masterofmalt.com/gin/34',\n",
       " 'https://www.masterofmalt.com/gin/28',\n",
       " 'https://www.masterofmalt.com/gin/105',\n",
       " 'https://www.masterofmalt.com/gin/24',\n",
       " 'https://www.masterofmalt.com/gin/54',\n",
       " 'https://www.masterofmalt.com/gin/65',\n",
       " 'https://www.masterofmalt.com/gin/32',\n",
       " 'https://www.masterofmalt.com/gin/5',\n",
       " 'https://www.masterofmalt.com/gin/50',\n",
       " 'https://www.masterofmalt.com/gin/7',\n",
       " 'https://www.masterofmalt.com/gin/3',\n",
       " 'https://www.masterofmalt.com/gin/40',\n",
       " 'https://www.masterofmalt.com/gin/64',\n",
       " 'https://www.masterofmalt.com/gin/94',\n",
       " 'https://www.masterofmalt.com/gin/2',\n",
       " 'https://www.masterofmalt.com/gin/46',\n",
       " 'https://www.masterofmalt.com/gin/61',\n",
       " 'https://www.masterofmalt.com/gin/52',\n",
       " 'https://www.masterofmalt.com/gin/102',\n",
       " 'https://www.masterofmalt.com/gin/81',\n",
       " 'https://www.masterofmalt.com/gin/78',\n",
       " 'https://www.masterofmalt.com/gin/49',\n",
       " 'https://www.masterofmalt.com/gin/47',\n",
       " 'https://www.masterofmalt.com/gin/42',\n",
       " 'https://www.masterofmalt.com/gin/48',\n",
       " 'https://www.masterofmalt.com/gin/44',\n",
       " 'https://www.masterofmalt.com/gin/71',\n",
       " 'https://www.masterofmalt.com/gin/100',\n",
       " 'https://www.masterofmalt.com/gin/76',\n",
       " 'https://www.masterofmalt.com/gin/10',\n",
       " 'https://www.masterofmalt.com/gin/101',\n",
       " 'https://www.masterofmalt.com/gin/96',\n",
       " 'https://www.masterofmalt.com/gin/55',\n",
       " 'https://www.masterofmalt.com/gin/63',\n",
       " 'https://www.masterofmalt.com/gin/73',\n",
       " 'https://www.masterofmalt.com/gin/37',\n",
       " 'https://www.masterofmalt.com/gin/60',\n",
       " 'https://www.masterofmalt.com/gin/107',\n",
       " 'https://www.masterofmalt.com/gin/115',\n",
       " 'https://www.masterofmalt.com/gin/104',\n",
       " 'https://www.masterofmalt.com/gin/108',\n",
       " 'https://www.masterofmalt.com/gin/18',\n",
       " 'https://www.masterofmalt.com/gin/75',\n",
       " 'https://www.masterofmalt.com/gin/',\n",
       " 'https://www.masterofmalt.com/gin/31',\n",
       " 'https://www.masterofmalt.com/gin/77',\n",
       " 'https://www.masterofmalt.com/gin/95',\n",
       " 'https://www.masterofmalt.com/gin/106',\n",
       " 'https://www.masterofmalt.com/gin/79',\n",
       " 'https://www.masterofmalt.com/gin/83',\n",
       " 'https://www.masterofmalt.com/gin/43',\n",
       " 'https://www.masterofmalt.com/gin/67',\n",
       " 'https://www.masterofmalt.com/gin/53',\n",
       " 'https://www.masterofmalt.com/gin/33',\n",
       " 'https://www.masterofmalt.com/gin/58',\n",
       " 'https://www.masterofmalt.com/gin/35',\n",
       " 'https://www.masterofmalt.com/gin/20',\n",
       " 'https://www.masterofmalt.com/gin/80',\n",
       " 'https://www.masterofmalt.com/gin/14',\n",
       " 'https://www.masterofmalt.com/gin/91',\n",
       " 'https://www.masterofmalt.com/gin/97',\n",
       " 'https://www.masterofmalt.com/gin/109',\n",
       " 'https://www.masterofmalt.com/gin/25',\n",
       " 'https://www.masterofmalt.com/gin/90',\n",
       " 'https://www.masterofmalt.com/gin/57',\n",
       " 'https://www.masterofmalt.com/gin/15',\n",
       " 'https://www.masterofmalt.com/gin/8',\n",
       " 'https://www.masterofmalt.com/gin/110',\n",
       " 'https://www.masterofmalt.com/gin/72',\n",
       " 'https://www.masterofmalt.com/gin/86',\n",
       " 'https://www.masterofmalt.com/gin/89',\n",
       " 'https://www.masterofmalt.com/gin/62',\n",
       " 'https://www.masterofmalt.com/gin/59',\n",
       " 'https://www.masterofmalt.com/gin/11',\n",
       " 'https://www.masterofmalt.com/gin/87',\n",
       " 'https://www.masterofmalt.com/gin/93',\n",
       " 'https://www.masterofmalt.com/gin/66',\n",
       " 'https://www.masterofmalt.com/gin/103',\n",
       " 'https://www.masterofmalt.com/gin/4',\n",
       " 'https://www.masterofmalt.com/gin/117',\n",
       " 'https://www.masterofmalt.com/gin/27',\n",
       " 'https://www.masterofmalt.com/gin/69',\n",
       " 'https://www.masterofmalt.com/gin/82',\n",
       " 'https://www.masterofmalt.com/gin/19',\n",
       " 'https://www.masterofmalt.com/gin/38',\n",
       " 'https://www.masterofmalt.com/gin/114',\n",
       " 'https://www.masterofmalt.com/gin/21',\n",
       " 'https://www.masterofmalt.com/gin/51',\n",
       " 'https://www.masterofmalt.com/gin/17',\n",
       " 'https://www.masterofmalt.com/gin/70',\n",
       " 'https://www.masterofmalt.com/gin/6',\n",
       " 'https://www.masterofmalt.com/gin/85',\n",
       " 'https://www.masterofmalt.com/gin/26',\n",
       " 'https://www.masterofmalt.com/gin/98']"
      ]
     },
     "execution_count": 80,
     "metadata": {},
     "output_type": "execute_result"
    }
   ],
   "source": [
    "all_gin_pages"
   ]
  },
  {
   "cell_type": "code",
   "execution_count": 81,
   "metadata": {},
   "outputs": [
    {
     "data": {
      "text/plain": [
       "118"
      ]
     },
     "execution_count": 81,
     "metadata": {},
     "output_type": "execute_result"
    }
   ],
   "source": [
    "len(all_gin_pages)"
   ]
  },
  {
   "cell_type": "markdown",
   "metadata": {},
   "source": [
    "We can see that there are 118 pages of gins to scroll through on the website.  \n",
    "\n",
    "#### Overview of using sets\n",
    "I thought that sets were the ideal data type for this particular instance. It makes sense because we want to loop through each of the pages, and not 'go back' when we are presented with the pages that we have already seen.  "
   ]
  },
  {
   "cell_type": "code",
   "execution_count": 36,
   "metadata": {},
   "outputs": [
    {
     "data": {
      "text/plain": [
       "array([3, 4, 5])"
      ]
     },
     "execution_count": 36,
     "metadata": {},
     "output_type": "execute_result"
    }
   ],
   "source": [
    "np.setdiff1d([1,2,3,4,5], [1,2])"
   ]
  },
  {
   "cell_type": "code",
   "execution_count": 35,
   "metadata": {},
   "outputs": [
    {
     "data": {
      "text/plain": [
       "{'url', 'url2'}"
      ]
     },
     "execution_count": 35,
     "metadata": {},
     "output_type": "execute_result"
    }
   ],
   "source": [
    "set(['url']).union(set(['url', 'url2']))"
   ]
  }
 ],
 "metadata": {
  "kernelspec": {
   "display_name": "Python 3",
   "language": "python",
   "name": "python3"
  },
  "language_info": {
   "codemirror_mode": {
    "name": "ipython",
    "version": 3
   },
   "file_extension": ".py",
   "mimetype": "text/x-python",
   "name": "python",
   "nbconvert_exporter": "python",
   "pygments_lexer": "ipython3",
   "version": "3.6.8"
  }
 },
 "nbformat": 4,
 "nbformat_minor": 2
}
