{
 "cells": [
  {
   "cell_type": "markdown",
   "metadata": {},
   "source": [
    "# Class implementation\n",
    "We are going to be working with two things that I would consider making into a class: `page` and `gin`. The former being a menu page that will contain many gins, and then a gin being represented by a page that shows the gin on the website. \n",
    "\n",
    "The `Gin` class is going to have attributes for all the features that we are interested in that you can see on the page, while the `Page` class is likely only going to have a list of gin URLs that feature on that given page. "
   ]
  },
  {
   "cell_type": "code",
   "execution_count": 1,
   "metadata": {},
   "outputs": [],
   "source": [
    "import pandas as pd \n",
    "import requests\n",
    "from bs4 import BeautifulSoup\n",
    "import re"
   ]
  },
  {
   "cell_type": "markdown",
   "metadata": {},
   "source": [
    "We have already written the code for determining the unique pages that we are going to want to serach for gins on, so the next step is to go through and make an object for each of those, passing just the URL to it. "
   ]
  },
  {
   "cell_type": "code",
   "execution_count": 2,
   "metadata": {},
   "outputs": [],
   "source": [
    "class Page:\n",
    "    def __init__(self, url):\n",
    "        self.url = url\n",
    "        self.raw_soup = self.get_raw_soup()\n",
    "        self.gin_urls = self.get_gin_urls()\n",
    "    \n",
    "    def get_raw_soup(self):\n",
    "        cookies = dict(MaOMa='VisitorID=556630649&IsVATableCountry=1&CountryID=464&CurrencyID=-1&CountryCodeShort=GB&DeliveryCountrySavedToDB=1')\n",
    "        html = requests.get(self.url, headers = {\"Accept-Language\": \"en-GB\"}, cookies = cookies).text \n",
    "        soup = BeautifulSoup(html, features=\"html.parser\")\n",
    "        return(soup)\n",
    "    \n",
    "    def get_gin_urls(self):\n",
    "        product_container = self.raw_soup.find('div', {'id':'productBoxWideContainer'})\n",
    "        products = product_container.find_all('div', {'id':re.compile('ProductBoxClass'), 'class':re.compile('product-box-wide')})\n",
    "        gins = [x.get('data-product-url') for x in products]\n",
    "        return(gins)"
   ]
  },
  {
   "cell_type": "code",
   "execution_count": 3,
   "metadata": {},
   "outputs": [],
   "source": [
    "raw_soup = Page('https://www.masterofmalt.com/gin/').raw_soup"
   ]
  },
  {
   "cell_type": "code",
   "execution_count": 4,
   "metadata": {},
   "outputs": [],
   "source": [
    "product_container = raw_soup.find('div', {'id':'productBoxWideContainer'})\n",
    "products = product_container.find_all('div', {'id':re.compile('ProductBoxClass'), 'class':re.compile('product-box-wide')})"
   ]
  },
  {
   "cell_type": "markdown",
   "metadata": {},
   "source": [
    "We can make the most of the `data` meta tags that are added to the divs for each box here. "
   ]
  },
  {
   "cell_type": "code",
   "execution_count": 5,
   "metadata": {},
   "outputs": [
    {
     "data": {
      "text/plain": [
       "'That Boutique-y Gin Company Advent Calendar (2019 Edition)'"
      ]
     },
     "execution_count": 5,
     "metadata": {},
     "output_type": "execute_result"
    }
   ],
   "source": [
    "products[0].get('data-name')"
   ]
  },
  {
   "cell_type": "code",
   "execution_count": 6,
   "metadata": {},
   "outputs": [
    {
     "data": {
      "text/plain": [
       "['https://www.masterofmalt.com/gin/that-boutiquey-gin-company/that-boutiquey-gin-company-advent-calendar/',\n",
       " 'https://www.masterofmalt.com/gin/isle-of-wight-distillery/mermaid-gin/',\n",
       " 'https://www.masterofmalt.com/gin/that-boutiquey-gin-company/that-boutiquey-gin-company-12-days-of-gin/',\n",
       " 'https://www.masterofmalt.com/gin/ableforths/bathtub-gin-with-gift-tube-gin/',\n",
       " 'https://www.masterofmalt.com/gin/glaswegin/glaswegin-gin/',\n",
       " 'https://www.masterofmalt.com/gin/isle-of-wight-distillery/mermaid-pink-gin/',\n",
       " 'https://www.masterofmalt.com/gin/sadlers/peaky-blinder-spiced-dry-gin/',\n",
       " 'https://www.masterofmalt.com/tasting-set/drinks-by-the-dram/christmas-gin-tasting-set-2019/',\n",
       " 'https://www.masterofmalt.com/gin/gin-ting/gin-ting-passionfruit-mango-and-elderflower-gin/',\n",
       " 'https://www.masterofmalt.com/gin/the-dingle-distillery/dingle-original-gin/',\n",
       " 'https://www.masterofmalt.com/gin/sharish-gin/sharish-blue-magic-gin/',\n",
       " 'https://www.masterofmalt.com/gin/port-of-leith/lind-and-lime-gin/',\n",
       " 'https://www.masterofmalt.com/gin/drinks-by-the-dram/gin-advent-calendar/',\n",
       " 'https://www.masterofmalt.com/gin/feckin-drinks/feckin-irish-gin/',\n",
       " 'https://www.masterofmalt.com/gin/monkey-47-dry-gin/',\n",
       " 'https://www.masterofmalt.com/tasting-set/drinks-by-the-dram/world-gin-awards-winners-2019-tasting-set/',\n",
       " 'https://www.masterofmalt.com/gin/that-boutiquey-gin-company/momers-web-page-gin-that-boutiquey-gin-company-gin/',\n",
       " 'https://www.masterofmalt.com/gin/zing-72/zing-72-botanical-gin/',\n",
       " 'https://www.masterofmalt.com/gin/drinks-by-the-dram/ginvent-calendar/',\n",
       " 'https://www.masterofmalt.com/gin/that-boutiquey-gin-company/gingle-all-the-way-that-boutiquey-gin-company-gin/',\n",
       " 'https://www.masterofmalt.com/gin/alkkemist/alkkemist-gin/',\n",
       " 'https://www.masterofmalt.com/gin/forest-gin/forest-gin/',\n",
       " 'https://www.masterofmalt.com/gin/tarquins/tarquins-figgy-pudding-gin/',\n",
       " 'https://www.masterofmalt.com/gin/roku/roku-gin/',\n",
       " 'https://www.masterofmalt.com/gin/silent-pool/silent-pool-gin/']"
      ]
     },
     "execution_count": 6,
     "metadata": {},
     "output_type": "execute_result"
    }
   ],
   "source": [
    "[x.get('data-product-url') for x in products]"
   ]
  },
  {
   "cell_type": "markdown",
   "metadata": {},
   "source": [
    "We have our list of gins. I have wrapped this in a method `get_gin_urls` in the class at the top of this kernel. "
   ]
  },
  {
   "cell_type": "code",
   "execution_count": 7,
   "metadata": {},
   "outputs": [
    {
     "data": {
      "text/plain": [
       "['https://www.masterofmalt.com/gin/that-boutiquey-gin-company/that-boutiquey-gin-company-advent-calendar/',\n",
       " 'https://www.masterofmalt.com/gin/isle-of-wight-distillery/mermaid-gin/',\n",
       " 'https://www.masterofmalt.com/gin/that-boutiquey-gin-company/that-boutiquey-gin-company-12-days-of-gin/',\n",
       " 'https://www.masterofmalt.com/gin/ableforths/bathtub-gin-with-gift-tube-gin/',\n",
       " 'https://www.masterofmalt.com/gin/glaswegin/glaswegin-gin/',\n",
       " 'https://www.masterofmalt.com/gin/isle-of-wight-distillery/mermaid-pink-gin/',\n",
       " 'https://www.masterofmalt.com/gin/sadlers/peaky-blinder-spiced-dry-gin/',\n",
       " 'https://www.masterofmalt.com/tasting-set/drinks-by-the-dram/christmas-gin-tasting-set-2019/',\n",
       " 'https://www.masterofmalt.com/gin/gin-ting/gin-ting-passionfruit-mango-and-elderflower-gin/',\n",
       " 'https://www.masterofmalt.com/gin/the-dingle-distillery/dingle-original-gin/',\n",
       " 'https://www.masterofmalt.com/gin/sharish-gin/sharish-blue-magic-gin/',\n",
       " 'https://www.masterofmalt.com/gin/port-of-leith/lind-and-lime-gin/',\n",
       " 'https://www.masterofmalt.com/gin/drinks-by-the-dram/gin-advent-calendar/',\n",
       " 'https://www.masterofmalt.com/gin/feckin-drinks/feckin-irish-gin/',\n",
       " 'https://www.masterofmalt.com/gin/monkey-47-dry-gin/',\n",
       " 'https://www.masterofmalt.com/tasting-set/drinks-by-the-dram/world-gin-awards-winners-2019-tasting-set/',\n",
       " 'https://www.masterofmalt.com/gin/that-boutiquey-gin-company/momers-web-page-gin-that-boutiquey-gin-company-gin/',\n",
       " 'https://www.masterofmalt.com/gin/zing-72/zing-72-botanical-gin/',\n",
       " 'https://www.masterofmalt.com/gin/drinks-by-the-dram/ginvent-calendar/',\n",
       " 'https://www.masterofmalt.com/gin/that-boutiquey-gin-company/gingle-all-the-way-that-boutiquey-gin-company-gin/',\n",
       " 'https://www.masterofmalt.com/gin/alkkemist/alkkemist-gin/',\n",
       " 'https://www.masterofmalt.com/gin/forest-gin/forest-gin/',\n",
       " 'https://www.masterofmalt.com/gin/tarquins/tarquins-figgy-pudding-gin/',\n",
       " 'https://www.masterofmalt.com/gin/roku/roku-gin/',\n",
       " 'https://www.masterofmalt.com/gin/silent-pool/silent-pool-gin/']"
      ]
     },
     "execution_count": 7,
     "metadata": {},
     "output_type": "execute_result"
    }
   ],
   "source": [
    "Page('https://www.masterofmalt.com/gin/').gin_urls"
   ]
  }
 ],
 "metadata": {
  "kernelspec": {
   "display_name": "Python 3",
   "language": "python",
   "name": "python3"
  },
  "language_info": {
   "codemirror_mode": {
    "name": "ipython",
    "version": 3
   },
   "file_extension": ".py",
   "mimetype": "text/x-python",
   "name": "python",
   "nbconvert_exporter": "python",
   "pygments_lexer": "ipython3",
   "version": "3.6.8"
  }
 },
 "nbformat": 4,
 "nbformat_minor": 2
}
