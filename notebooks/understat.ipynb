{
 "cells": [
  {
   "cell_type": "code",
   "execution_count": 1,
   "metadata": {},
   "outputs": [],
   "source": [
    "import requests\n",
    "import pandas as pd\n",
    "from bs4 import BeautifulSoup\n",
    "import re \n",
    "import codecs\n",
    "import json\n",
    "import matplotlib.pyplot as plt"
   ]
  },
  {
   "cell_type": "code",
   "execution_count": 2,
   "metadata": {},
   "outputs": [
    {
     "data": {
      "text/plain": [
       "dict_keys(['h', 'a'])"
      ]
     },
     "execution_count": 2,
     "metadata": {},
     "output_type": "execute_result"
    }
   ],
   "source": [
    "pattern = r\"shotsData\\s+=\\s+JSON.parse\\(\\'(.*?)\\'\\)\"\n",
    "html = requests.get(\"https://understat.com/match/14090/\")\n",
    "soup = BeautifulSoup(html.text, \"html.parser\")\n",
    "scripts = soup.find_all(\"script\")\n",
    "pattern = re.compile(pattern)\n",
    "bytes_data = codecs.escape_decode(re.search(pattern, scripts[1].string).group(1))\n",
    "json_data = json.loads(bytes_data[0].decode(\"utf-8\"))\n",
    "json_data.keys()"
   ]
  },
  {
   "cell_type": "code",
   "execution_count": 3,
   "metadata": {},
   "outputs": [],
   "source": [
    "home = pd.DataFrame.from_dict(json_data['h'])\n",
    "away = pd.DataFrame.from_dict(json_data['a'])\n",
    "home['minute'] = home['minute'].astype(int)\n",
    "away['minute'] = away['minute'].astype(int)"
   ]
  },
  {
   "cell_type": "code",
   "execution_count": 4,
   "metadata": {},
   "outputs": [],
   "source": [
    "home['total_xG'] = home['xG'].astype(float).cumsum()\n",
    "away['total_xG'] = away['xG'].astype(float).cumsum()"
   ]
  },
  {
   "cell_type": "code",
   "execution_count": 5,
   "metadata": {},
   "outputs": [],
   "source": [
    "home_team = home.loc[0, 'h_team']\n",
    "away_team = away.loc[0, 'a_team']"
   ]
  },
  {
   "cell_type": "code",
   "execution_count": 6,
   "metadata": {},
   "outputs": [],
   "source": [
    "home_total_xG = [0] + list(home.total_xG)\n",
    "away_total_xG = [0] + list(away.total_xG)\n",
    "home_minutes = [0] + list(home.minute)\n",
    "away_minutes = [0] + list(away.minute)"
   ]
  },
  {
   "cell_type": "code",
   "execution_count": 7,
   "metadata": {},
   "outputs": [],
   "source": [
    "home_goals = home[home['result'] == 'Goal']\n",
    "away_goals = away[away['result'] == 'Goal']"
   ]
  },
  {
   "cell_type": "code",
   "execution_count": null,
   "metadata": {},
   "outputs": [],
   "source": [
    "# https://colorhunt.co/palettes/dark\n",
    "palette = ['#222831', '#393e46', '#d65a31', '#eeeeee', '#87556f']"
   ]
  },
  {
   "cell_type": "code",
   "execution_count": 8,
   "metadata": {},
   "outputs": [
    {
     "data": {
      "image/png": "[encoded data removed]",
      "text/plain": [
       "<Figure size 432x288 with 1 Axes>"
      ]
     },
     "metadata": {
      "needs_background": "light"
     },
     "output_type": "display_data"
    }
   ],
   "source": [
    "fig, ax = plt.subplots()\n",
    "\n",
    "ax.set_xlim(0, 90)\n",
    "ax.set_ylim(0, 3.5)\n",
    "\n",
    "ax.plot(home_minutes, home_total_xG)\n",
    "ax.plot(away_minutes, away_total_xG)\n",
    "\n",
    "ax.scatter(home_goals.minute, home_goals.total_xG)\n",
    "ax.scatter(away_goals.minute, away_goals.total_xG)\n",
    "\n",
    "plt.show()"
   ]
  }
 ],
 "metadata": {
  "kernelspec": {
   "display_name": "Python 3",
   "language": "python",
   "name": "python3"
  },
  "language_info": {
   "codemirror_mode": {
    "name": "ipython",
    "version": 3
   },
   "file_extension": ".py",
   "mimetype": "text/x-python",
   "name": "python",
   "nbconvert_exporter": "python",
   "pygments_lexer": "ipython3",
   "version": "3.7.5"
  }
 },
 "nbformat": 4,
 "nbformat_minor": 4
}
